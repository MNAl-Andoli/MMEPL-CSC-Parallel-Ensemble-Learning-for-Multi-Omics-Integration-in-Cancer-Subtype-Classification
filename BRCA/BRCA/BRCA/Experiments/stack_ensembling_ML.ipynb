{
 "cells": [
  {
   "cell_type": "code",
   "execution_count": 1,
   "id": "2446a2de",
   "metadata": {},
   "outputs": [],
   "source": [
    "from sklearn.tree import DecisionTreeClassifier\n",
    "from sklearn.ensemble import RandomForestClassifier\n",
    "from sklearn.neighbors import KNeighborsClassifier\n",
    "from sklearn.linear_model import LogisticRegression\n",
    "from sklearn.ensemble import StackingClassifier\n",
    "from sklearn.svm import SVC\n",
    "\n",
    "import xgboost\n",
    "import pandas as pd\n",
    "from sklearn.model_selection import KFold\n",
    "from sklearn.model_selection import cross_val_score\n",
    "\n",
    "from sklearn.model_selection import train_test_split\n",
    "from sklearn.preprocessing import StandardScaler\n",
    "from sklearn.metrics import precision_score, recall_score, f1_score, accuracy_score\n",
    "import time\n",
    "import numpy as np\n",
    "import datetime\n",
    "from os.path import exists\n",
    "\n",
    "from sklearn.ensemble import StackingClassifier\n",
    "from sklearn.neural_network import MLPClassifier"
   ]
  },
  {
   "cell_type": "code",
   "execution_count": 2,
   "id": "6dcc3d98",
   "metadata": {},
   "outputs": [
    {
     "name": "stdout",
     "output_type": "stream",
     "text": [
      "(511, 100)\n",
      "(511,)\n"
     ]
    }
   ],
   "source": [
    "data = np.loadtxt('data/latent_fpkm_gistic_rppa.csv', delimiter=',')\n",
    "print(data.shape)\n",
    "\n",
    "labels = np.loadtxt('data/encoded_labels.csv')\n",
    "print(labels.shape)\n",
    "\n",
    "\n",
    "now = datetime.datetime.now()\n",
    "Time_Now= now.strftime(\"%Y-%m-%d %H:%M:%S\")\n",
    "\n",
    "PC= 'Lenovo'\n",
    "dataset= 'Pan'\n",
    "target_names=['LumA','LumB', 'Basal', 'Her2',]\n",
    "\n",
    "# Split the data into training and testing sets\n",
    "X_train, X_test, y_train, y_test = train_test_split(data, labels, test_size=0.2, random_state=42)\n",
    "\n",
    "num_classes = len(np.unique(labels))\n",
    "num_input=data.shape[1]\n",
    "\n"
   ]
  },
  {
   "cell_type": "code",
   "execution_count": 3,
   "id": "881f3ec5-9129-4f5a-b0bd-47dfbc0708f4",
   "metadata": {},
   "outputs": [],
   "source": [
    "#produce results\n",
    "path = 'data/results_fpkm_gistic_rppa/'\n",
    "\n",
    "def write_results(results, path):\n",
    "    \n",
    "    file_exists = exists(path)\n",
    "    if not(file_exists):\n",
    "        with open(path,\"a+\") as f:\n",
    "            f.write(results)\n",
    "            f.write(\"\\n\")\n",
    "    else:\n",
    "        with open(path,\"a+\") as f:\n",
    "            f.write(results)"
   ]
  },
  {
   "cell_type": "code",
   "execution_count": 4,
   "id": "36e98fee",
   "metadata": {},
   "outputs": [],
   "source": [
    "dtc =  DecisionTreeClassifier()\n",
    "rfc = RandomForestClassifier()\n",
    "knn =  KNeighborsClassifier()\n",
    "xgb = xgboost.XGBClassifier()\n",
    "svm = SVC(probability=True)"
   ]
  },
  {
   "cell_type": "code",
   "execution_count": 5,
   "id": "74867530",
   "metadata": {},
   "outputs": [
    {
     "data": {
      "text/plain": [
       "'clf = [dtc,rfc,knn,xgb]\\nfor algo in clf:\\n    score = cross_val_score( algo,X,y,cv = 10,scoring = \\'accuracy\\')\\n    print(\"The accuracy score of {} is:\".format(algo),score.mean())'"
      ]
     },
     "execution_count": 5,
     "metadata": {},
     "output_type": "execute_result"
    }
   ],
   "source": [
    "'''clf = [dtc,rfc,knn,xgb]\n",
    "for algo in clf:\n",
    "    score = cross_val_score( algo,X,y,cv = 10,scoring = 'accuracy')\n",
    "    print(\"The accuracy score of {} is:\".format(algo),score.mean())'''"
   ]
  },
  {
   "cell_type": "code",
   "execution_count": 6,
   "id": "5b62169e",
   "metadata": {},
   "outputs": [],
   "source": [
    "dtc =  DecisionTreeClassifier()\n",
    "rfc = RandomForestClassifier()\n",
    "knn =  KNeighborsClassifier()\n",
    "xgb = xgboost.XGBClassifier()\n",
    "svm = SVC(probability=True)\n",
    "classifiers = [('dtc',dtc),('rfc',rfc),('knn',knn) ,('xgb',xgb)] #, ('svm',svm)list of (str, estimator)"
   ]
  },
  {
   "cell_type": "code",
   "execution_count": 7,
   "id": "54a9d89b",
   "metadata": {},
   "outputs": [
    {
     "name": "stdout",
     "output_type": "stream",
     "text": [
      "Acc: 82.52, Pre: 83.40, Rec: 82.52, F1: 82.61, PC:LenovoDataset: Pan\n",
      "\n"
     ]
    },
    {
     "data": {
      "text/plain": [
       "3.805452585220337"
      ]
     },
     "execution_count": 7,
     "metadata": {},
     "output_type": "execute_result"
    }
   ],
   "source": [
    "t1= time.time()\n",
    "lr = LogisticRegression()\n",
    "clf = StackingClassifier( estimators = classifiers,final_estimator = lr)\n",
    "\n",
    "\n",
    "clf.fit(X_train , y_train)\n",
    "#score = cross_val_score(stack_model,new_X,y,cv = 10,scoring = 'accuracy')\n",
    "#score\n",
    "y_predict=clf.predict(X_test)\n",
    "acc=accuracy_score(y_predict,y_test)\n",
    "prc=precision_score(y_predict,y_test, average='weighted')\n",
    "rec=recall_score(y_predict,y_test, average='weighted')\n",
    "f1=f1_score(y_predict,y_test, average='weighted')\n",
    "\n",
    "results ='Acc: %.2f' % (acc*100) + ', Pre: %.2f' % (prc*100)\n",
    "results += ', Rec: %.2f' % (rec*100) + ', F1: %.2f' % (f1*100) + ', PC:Lenovo'\n",
    "results += 'Dataset: ' + dataset + '\\n'\n",
    "    \n",
    "\n",
    "\n",
    "\n",
    "print (results) \n",
    "t2=time.time()\n",
    "t2-t1"
   ]
  },
  {
   "cell_type": "code",
   "execution_count": 8,
   "id": "3869d251-2ae1-4490-8ce6-28a3f2347c1c",
   "metadata": {},
   "outputs": [],
   "source": [
    "results+= 'Done in time: ' + str(round(t2-t1))\n",
    "\n",
    "path2= path + \"Ensemble_ML_results.txt\" # the name of the file\n",
    "write_results(results, path2)\n"
   ]
  },
  {
   "cell_type": "code",
   "execution_count": null,
   "id": "865604b3-4dc7-4fef-9c25-e7f3ace68917",
   "metadata": {},
   "outputs": [],
   "source": []
  }
 ],
 "metadata": {
  "kernelspec": {
   "display_name": "Python 3 (ipykernel)",
   "language": "python",
   "name": "python3"
  },
  "language_info": {
   "codemirror_mode": {
    "name": "ipython",
    "version": 3
   },
   "file_extension": ".py",
   "mimetype": "text/x-python",
   "name": "python",
   "nbconvert_exporter": "python",
   "pygments_lexer": "ipython3",
   "version": "3.10.6"
  }
 },
 "nbformat": 4,
 "nbformat_minor": 5
}
