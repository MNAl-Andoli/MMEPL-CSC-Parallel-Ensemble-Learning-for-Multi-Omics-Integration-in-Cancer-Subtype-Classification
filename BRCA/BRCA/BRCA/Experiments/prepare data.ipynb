{
 "cells": [
  {
   "cell_type": "code",
   "execution_count": 1,
   "metadata": {},
   "outputs": [],
   "source": [
    "import numpy as np\n",
    "import pandas as pd\n",
    "import glob "
   ]
  },
  {
   "cell_type": "code",
   "execution_count": 2,
   "metadata": {},
   "outputs": [],
   "source": [
    "cur_path='/home/alandoli/Desktop/CP_Lim'\n",
    "# link = https://www.kaggle.com/code/rkuo2000/induction-motor-faults-detection/data"
   ]
  },
  {
   "cell_type": "code",
   "execution_count": 3,
   "metadata": {},
   "outputs": [],
   "source": [
    "normal_file_names = glob.glob(cur_path+'/normal/*.csv')\n",
    "imnormal_file_names_6g = glob.glob(cur_path+'/imbalance/6g/*.csv')\n",
    "imnormal_file_names_10g = glob.glob(cur_path+'/imbalance/10g/*.csv')\n",
    "imnormal_file_names_15g = glob.glob(cur_path+'/imbalance//15g/*.csv')\n",
    "imnormal_file_names_20g = glob.glob(cur_path+'/imbalance//20g/*.csv')\n",
    "imnormal_file_names_25g = glob.glob(cur_path+'/imbalance//25g/*.csv')\n",
    "imnormal_file_names_30g = glob.glob(cur_path+'/imbalance//30g/*.csv')"
   ]
  },
  {
   "cell_type": "code",
   "execution_count": 4,
   "metadata": {},
   "outputs": [],
   "source": [
    "def dataReader(path_names):\n",
    "    data_n = pd.DataFrame()\n",
    "    for i in path_names:\n",
    "        low_data = pd.read_csv(i,header=None)\n",
    "        data_n = pd.concat([data_n,low_data],ignore_index=True)\n",
    "    return data_n"
   ]
  },
  {
   "cell_type": "code",
   "execution_count": 5,
   "metadata": {},
   "outputs": [],
   "source": [
    "data_n = dataReader(normal_file_names)\n",
    "data_6g = dataReader(imnormal_file_names_6g)\n",
    "data_10g = dataReader(imnormal_file_names_10g)\n",
    "data_15g = dataReader(imnormal_file_names_15g)\n",
    "data_20g = dataReader(imnormal_file_names_20g)\n",
    "data_25g = dataReader(imnormal_file_names_25g)\n",
    "data_30g = dataReader(imnormal_file_names_30g)"
   ]
  },
  {
   "cell_type": "code",
   "execution_count": 6,
   "metadata": {},
   "outputs": [],
   "source": [
    "def downSampler(data,a,b):\n",
    "    \"\"\"\n",
    "    data = data\n",
    "    a = start index\n",
    "    b = sampling rate\n",
    "    \"\"\"\n",
    "    data_decreased = pd.DataFrame()\n",
    "    x = b\n",
    "    for i in range(int(len(data)/x)):\n",
    "        data_decreased = data_decreased.append(data.iloc[a:b,:].sum()/x,ignore_index=True)\n",
    "        a += x\n",
    "        b += x\n",
    "    return data_decreased"
   ]
  },
  {
   "cell_type": "code",
   "execution_count": 7,
   "metadata": {},
   "outputs": [],
   "source": [
    "Sampler=70\n",
    "data_n1 = downSampler(data_n, 0, Sampler)\n",
    "data_6g1 = downSampler(data_6g, 0, Sampler)\n",
    "data_10g1 = downSampler(data_10g, 0, Sampler)\n",
    "data_15g1 = downSampler(data_15g, 0, Sampler)\n",
    "data_20g1 = downSampler(data_20g, 0, Sampler)\n",
    "data_25g1 = downSampler(data_25g, 0, Sampler)\n",
    "data_30g1 = downSampler(data_30g, 0, Sampler)\n",
    "\n"
   ]
  },
  {
   "cell_type": "code",
   "execution_count": 8,
   "metadata": {},
   "outputs": [],
   "source": [
    "from scipy import signal\n",
    "def FFT(data):\n",
    "    autocorr = signal.fftconvolve(data,data[::-1],mode='full')\n",
    "    return pd.DataFrame(autocorr)"
   ]
  },
  {
   "cell_type": "code",
   "execution_count": 9,
   "metadata": {},
   "outputs": [],
   "source": [
    "data_n1 = FFT(data_n1)\n",
    "data_6g1 = FFT(data_6g1)\n",
    "data_10g1 = FFT(data_10g1)\n",
    "data_15g1 = FFT(data_15g1)\n",
    "data_20g1 = FFT(data_20g1)\n",
    "data_25g1 = FFT(data_25g1)\n",
    "data_30g1 = FFT(data_30g1)"
   ]
  },
  {
   "cell_type": "code",
   "execution_count": 10,
   "metadata": {},
   "outputs": [
    {
     "data": {
      "text/html": [
       "<div>\n",
       "<style scoped>\n",
       "    .dataframe tbody tr th:only-of-type {\n",
       "        vertical-align: middle;\n",
       "    }\n",
       "\n",
       "    .dataframe tbody tr th {\n",
       "        vertical-align: top;\n",
       "    }\n",
       "\n",
       "    .dataframe thead th {\n",
       "        text-align: right;\n",
       "    }\n",
       "</style>\n",
       "<table border=\"1\" class=\"dataframe\">\n",
       "  <thead>\n",
       "    <tr style=\"text-align: right;\">\n",
       "      <th></th>\n",
       "      <th>0</th>\n",
       "    </tr>\n",
       "  </thead>\n",
       "  <tbody>\n",
       "    <tr>\n",
       "      <th>0</th>\n",
       "      <td>1</td>\n",
       "    </tr>\n",
       "    <tr>\n",
       "      <th>1</th>\n",
       "      <td>1</td>\n",
       "    </tr>\n",
       "    <tr>\n",
       "      <th>2</th>\n",
       "      <td>1</td>\n",
       "    </tr>\n",
       "    <tr>\n",
       "      <th>3</th>\n",
       "      <td>1</td>\n",
       "    </tr>\n",
       "    <tr>\n",
       "      <th>4</th>\n",
       "      <td>1</td>\n",
       "    </tr>\n",
       "    <tr>\n",
       "      <th>...</th>\n",
       "      <td>...</td>\n",
       "    </tr>\n",
       "    <tr>\n",
       "      <th>2407128</th>\n",
       "      <td>6</td>\n",
       "    </tr>\n",
       "    <tr>\n",
       "      <th>2407129</th>\n",
       "      <td>6</td>\n",
       "    </tr>\n",
       "    <tr>\n",
       "      <th>2407130</th>\n",
       "      <td>6</td>\n",
       "    </tr>\n",
       "    <tr>\n",
       "      <th>2407131</th>\n",
       "      <td>6</td>\n",
       "    </tr>\n",
       "    <tr>\n",
       "      <th>2407132</th>\n",
       "      <td>6</td>\n",
       "    </tr>\n",
       "  </tbody>\n",
       "</table>\n",
       "<p>2407133 rows × 1 columns</p>\n",
       "</div>"
      ],
      "text/plain": [
       "         0\n",
       "0        1\n",
       "1        1\n",
       "2        1\n",
       "3        1\n",
       "4        1\n",
       "...     ..\n",
       "2407128  6\n",
       "2407129  6\n",
       "2407130  6\n",
       "2407131  6\n",
       "2407132  6\n",
       "\n",
       "[2407133 rows x 1 columns]"
      ]
     },
     "execution_count": 10,
     "metadata": {},
     "output_type": "execute_result"
    }
   ],
   "source": [
    "y_1 = pd.DataFrame(np.ones(int(len(data_n1)),dtype=int))\n",
    "y_2 = pd.DataFrame(np.zeros(int(len(data_6g1)),dtype=int))\n",
    "y_3 = pd.DataFrame(np.full((int(len(data_10g1)),1),2))\n",
    "y_4 = pd.DataFrame(np.full((int(len(data_15g1)),1),3))\n",
    "y_5 = pd.DataFrame(np.full((int(len(data_20g1)),1),4))\n",
    "y_6 = pd.DataFrame(np.full((int(len(data_25g1)),1),5))\n",
    "y_7 = pd.DataFrame(np.full((int(len(data_30g1)),1),6))\n",
    "y = pd.concat([y_1,y_2,y_3,y_4,y_5,y_6,y_7], ignore_index=True)\n",
    "y"
   ]
  },
  {
   "cell_type": "code",
   "execution_count": 11,
   "metadata": {},
   "outputs": [
    {
     "name": "stdout",
     "output_type": "stream",
     "text": [
      "<class 'pandas.core.frame.DataFrame'>\n",
      "RangeIndex: 2407133 entries, 0 to 2407132\n",
      "Data columns (total 15 columns):\n",
      " #   Column  Dtype  \n",
      "---  ------  -----  \n",
      " 0   0       float64\n",
      " 1   1       float64\n",
      " 2   2       float64\n",
      " 3   3       float64\n",
      " 4   4       float64\n",
      " 5   5       float64\n",
      " 6   6       float64\n",
      " 7   7       float64\n",
      " 8   8       float64\n",
      " 9   9       float64\n",
      " 10  10      float64\n",
      " 11  11      float64\n",
      " 12  12      float64\n",
      " 13  13      float64\n",
      " 14  14      float64\n",
      "dtypes: float64(15)\n",
      "memory usage: 275.5 MB\n"
     ]
    }
   ],
   "source": [
    "data = pd.concat([data_n1,data_6g1,data_10g1,data_15g1,data_20g1,data_25g1,data_30g1],ignore_index=True)\n",
    "data.info()"
   ]
  },
  {
   "cell_type": "code",
   "execution_count": 12,
   "metadata": {},
   "outputs": [
    {
     "name": "stdout",
     "output_type": "stream",
     "text": [
      "Shape of Train Data : (1925706, 15)\n",
      "Shape of Test Data : (481427, 15)\n"
     ]
    }
   ],
   "source": [
    "path=\"fault_data/L10/\"\n",
    "from sklearn.model_selection import train_test_split\n",
    "X_train, X_test, y_train, y_test = train_test_split(data, y, test_size=0.20, shuffle=True)\n",
    "print(\"Shape of Train Data : {}\".format(X_train.shape))\n",
    "print(\"Shape of Test Data : {}\".format(X_test.shape))\n",
    "np.save(path+\"X_train\", X_train)\n",
    "np.save(path+\"X_test\", X_test)\n",
    "np.save(path+\"y_train\", y_train)\n",
    "np.save(path+\"y_test\", y_test)"
   ]
  },
  {
   "cell_type": "code",
   "execution_count": null,
   "metadata": {},
   "outputs": [],
   "source": []
  },
  {
   "cell_type": "code",
   "execution_count": null,
   "metadata": {},
   "outputs": [],
   "source": []
  },
  {
   "cell_type": "code",
   "execution_count": null,
   "metadata": {},
   "outputs": [],
   "source": []
  }
 ],
 "metadata": {
  "kernelspec": {
   "display_name": "Python 3 (ipykernel)",
   "language": "python",
   "name": "python3"
  },
  "language_info": {
   "codemirror_mode": {
    "name": "ipython",
    "version": 3
   },
   "file_extension": ".py",
   "mimetype": "text/x-python",
   "name": "python",
   "nbconvert_exporter": "python",
   "pygments_lexer": "ipython3",
   "version": "3.10.6"
  }
 },
 "nbformat": 4,
 "nbformat_minor": 4
}
