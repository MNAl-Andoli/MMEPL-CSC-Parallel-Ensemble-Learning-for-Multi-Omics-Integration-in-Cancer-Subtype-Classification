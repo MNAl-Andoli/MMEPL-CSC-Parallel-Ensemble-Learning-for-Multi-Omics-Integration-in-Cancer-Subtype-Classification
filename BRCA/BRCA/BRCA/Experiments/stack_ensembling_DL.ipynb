{
 "cells": [
  {
   "cell_type": "code",
   "execution_count": 1,
   "id": "7c99e295",
   "metadata": {},
   "outputs": [],
   "source": [
    "from sklearn.tree import DecisionTreeClassifier\n",
    "from sklearn.ensemble import RandomForestClassifier\n",
    "from sklearn.neighbors import KNeighborsClassifier\n",
    "from sklearn.linear_model import LogisticRegression\n",
    "from sklearn.ensemble import StackingClassifier\n",
    "from sklearn.svm import SVC\n",
    "import draw_cnf_mat\n",
    "\n",
    "import xgboost\n",
    "import pandas as pd\n",
    "from sklearn.model_selection import KFold\n",
    "from sklearn.model_selection import cross_val_score\n",
    "from os.path import exists\n",
    "from sklearn.model_selection import cross_val_predict\n",
    "from sklearn.metrics import classification_report\n",
    "\n",
    "from sklearn.model_selection import train_test_split\n",
    "from sklearn.preprocessing import StandardScaler\n",
    "from sklearn.metrics import precision_score, recall_score, f1_score, accuracy_score\n",
    "\n",
    "import numpy as np\n",
    "import time\n",
    "from sklearn.ensemble import StackingClassifier\n",
    "from sklearn.neural_network import MLPClassifier"
   ]
  },
  {
   "cell_type": "code",
   "execution_count": 2,
   "id": "57fdc323",
   "metadata": {},
   "outputs": [],
   "source": [
    "X =np.loadtxt('data/latent_fpkm_gistic_rppa.csv', delimiter=',')\n",
    "\n",
    "\n",
    "y = np.loadtxt('data/encoded_labels.csv')\n",
    "\n",
    "input_dim=X.shape[1]\n",
    "\n",
    "PC= 'Lenovo'\n",
    "dataset= 'Pan'\n",
    "\n",
    "num_epochs=200\n",
    "batch_size=128\n",
    "\n",
    "num_classes=len(np.unique(y))\n",
    "\n",
    "\n",
    "\n",
    "target_names=['LumA','LumB', 'Basal', 'Her2',]\n"
   ]
  },
  {
   "cell_type": "code",
   "execution_count": 3,
   "id": "a0169818",
   "metadata": {},
   "outputs": [],
   "source": [
    "#produce results\n",
    "path = 'data/results_fpkm_gistic_rppa/'\n",
    "def write_results(results, path):\n",
    "    \n",
    "    file_exists = exists(path)\n",
    "    if not(file_exists):\n",
    "        with open(path,\"a+\") as f:\n",
    "            f.write(results)\n",
    "            f.write(\"\\n\")\n",
    "    else:\n",
    "        with open(path,\"a+\") as f:\n",
    "            f.write(results)"
   ]
  },
  {
   "cell_type": "code",
   "execution_count": 4,
   "id": "1f840b8e",
   "metadata": {},
   "outputs": [
    {
     "name": "stderr",
     "output_type": "stream",
     "text": [
      "2023-03-08 14:23:23.752212: I tensorflow/core/platform/cpu_feature_guard.cc:193] This TensorFlow binary is optimized with oneAPI Deep Neural Network Library (oneDNN) to use the following CPU instructions in performance-critical operations:  AVX2 FMA\n",
      "To enable them in other operations, rebuild TensorFlow with the appropriate compiler flags.\n",
      "2023-03-08 14:23:23.890333: W tensorflow/compiler/xla/stream_executor/platform/default/dso_loader.cc:64] Could not load dynamic library 'libcudart.so.11.0'; dlerror: libcudart.so.11.0: cannot open shared object file: No such file or directory\n",
      "2023-03-08 14:23:23.890357: I tensorflow/compiler/xla/stream_executor/cuda/cudart_stub.cc:29] Ignore above cudart dlerror if you do not have a GPU set up on your machine.\n",
      "2023-03-08 14:23:24.544574: W tensorflow/compiler/xla/stream_executor/platform/default/dso_loader.cc:64] Could not load dynamic library 'libnvinfer.so.7'; dlerror: libnvinfer.so.7: cannot open shared object file: No such file or directory\n",
      "2023-03-08 14:23:24.544678: W tensorflow/compiler/xla/stream_executor/platform/default/dso_loader.cc:64] Could not load dynamic library 'libnvinfer_plugin.so.7'; dlerror: libnvinfer_plugin.so.7: cannot open shared object file: No such file or directory\n",
      "2023-03-08 14:23:24.544687: W tensorflow/compiler/tf2tensorrt/utils/py_utils.cc:38] TF-TRT Warning: Cannot dlopen some TensorRT libraries. If you would like to use Nvidia GPU with TensorRT, please make sure the missing libraries mentioned above are installed properly.\n"
     ]
    }
   ],
   "source": [
    "from tensorflow.keras.models import Sequential\n",
    "from tensorflow.keras.layers import Dense\n",
    "from tensorflow.keras.layers import Dropout\n",
    "from tensorflow.keras.callbacks import EarlyStopping\n",
    "from keras.wrappers.scikit_learn import KerasClassifier\n",
    "\n",
    "x_train,x_test,y_train,y_test = train_test_split(X,y,test_size = 0.20, random_state=42)\n",
    "\n",
    "\n",
    "\n",
    "def create_model():\n",
    "    \n",
    "    #early_stop = EarlyStopping(monitor='loss', patience=2)\n",
    "    model = Sequential()\n",
    "        \n",
    "    model.add(Dense(128, activation='relu', input_shape=(input_dim,),kernel_initializer='random_uniform'))\n",
    "    model.add(Dense(64, activation='relu',kernel_initializer='random_uniform'))\n",
    "\n",
    "    '''model.add(Dense(128, activation='relu',kernel_initializer='random_uniform'))\n",
    "    model.add(Dense(64, activation='relu',kernel_initializer='random_uniform'))\n",
    "    model.add(Dense(32, activation='relu',kernel_initializer='random_uniform'))\n",
    "\n",
    "    model.add(Dense(num_classes, activation='softmax',kernel_initializer='random_uniform'))'''\n",
    "    model.add(Dense(num_classes, activation='softmax'))\n",
    "\n",
    "    model.compile(optimizer='Adam', loss='sparse_categorical_crossentropy', metrics=['accuracy'])\n",
    "    #model.compile(optimizer='Adam', loss='categorical_crossentropy', metrics=['accuracy'])\n",
    "\n",
    "    \n",
    "    return model"
   ]
  },
  {
   "cell_type": "code",
   "execution_count": 5,
   "id": "452842c0",
   "metadata": {},
   "outputs": [],
   "source": [
    "def run_model(i, X,x_train , y_train, x_test , y_test):\n",
    "    \n",
    "    t_temp=time.time()\n",
    "    #individual classifier\n",
    "    input_dim=x_train.shape[1]\n",
    "\n",
    "    model1=create_model()\n",
    "    #hist = model1.fit(x_train , y_train , epochs=20)\n",
    "    #hist = model1.fit(x_train , y_train , epochs=20, batch_size=5, verbose=0)\n",
    "    print(x_train.shape)\n",
    "    hist = model1.fit(x_train , y_train , epochs=num_epochs, batch_size=batch_size, verbose=0)\n",
    "    y_predict=model1.predict(x_test)\n",
    "    y_predict=np.argmax(y_predict,axis=1)\n",
    "\n",
    "    #_, accuracy = model1.evaluate(x_test, y_test)\n",
    "    #Accuracy\n",
    "    acc=accuracy_score(y_test, y_predict)\n",
    "    prc=precision_score(y_test, y_predict, average='weighted')\n",
    "    rec=recall_score(y_test, y_predict, average='weighted')\n",
    "    f1=f1_score(y_test, y_predict, average='weighted')\n",
    "    \n",
    " \n",
    "    results=''\n",
    "    if (i==0) :\n",
    "        results='Dataset:' + dataset + '=============================================\\n'\n",
    "        \n",
    "    results += 'DL:%d' %(i) + ', Acc: %.2f' % (acc*100) + ', Pre: %.2f' % (prc*100)\n",
    "    results += ', Rec: %.2f' % (rec*100) + ', F1: %.2f' % (f1*100) + ', T:%.2f ' % (time.time()-t_temp) + ', PC:Tan'\n",
    "    results += ', Eb:%d ' %(num_epochs) + ', Bs:%d ' %(batch_size) + '\\n'\n",
    "    \n",
    "    path2= path + \"Res_Singl_DL_Original.txt\" # the name of the file\n",
    "    write_results(results, path2)\n",
    "    predictions=model1.predict(X)\n",
    "    max_indices = np.argmax(predictions,axis=1)\n",
    "\n",
    "\n",
    "    return np.array(max_indices)"
   ]
  },
  {
   "cell_type": "code",
   "execution_count": 6,
   "id": "dff9c29b",
   "metadata": {},
   "outputs": [
    {
     "name": "stderr",
     "output_type": "stream",
     "text": [
      "2023-03-08 14:23:25.220904: E tensorflow/compiler/xla/stream_executor/cuda/cuda_driver.cc:267] failed call to cuInit: CUDA_ERROR_NO_DEVICE: no CUDA-capable device is detected\n",
      "2023-03-08 14:23:25.220943: I tensorflow/compiler/xla/stream_executor/cuda/cuda_diagnostics.cc:156] kernel driver does not appear to be running on this host (alandoli-Lenovo-Z50-70): /proc/driver/nvidia/version does not exist\n",
      "2023-03-08 14:23:25.221407: I tensorflow/core/platform/cpu_feature_guard.cc:193] This TensorFlow binary is optimized with oneAPI Deep Neural Network Library (oneDNN) to use the following CPU instructions in performance-critical operations:  AVX2 FMA\n",
      "To enable them in other operations, rebuild TensorFlow with the appropriate compiler flags.\n"
     ]
    },
    {
     "name": "stdout",
     "output_type": "stream",
     "text": [
      "(408, 100)\n",
      "4/4 [==============================] - 0s 2ms/step\n",
      "16/16 [==============================] - 0s 2ms/step\n",
      "(408, 100)\n",
      "4/4 [==============================] - 0s 2ms/step\n",
      "16/16 [==============================] - 0s 1ms/step\n",
      "(408, 100)\n",
      "4/4 [==============================] - 0s 2ms/step\n",
      "16/16 [==============================] - 0s 1ms/step\n",
      "(408, 100)\n",
      "4/4 [==============================] - 0s 2ms/step\n",
      "16/16 [==============================] - 0s 1ms/step\n",
      "(408, 100)\n",
      "4/4 [==============================] - 0s 2ms/step\n",
      "16/16 [==============================] - 0s 1ms/step\n",
      "(511, 105) (511, 5)\n"
     ]
    }
   ],
   "source": [
    "\n",
    "t=time.time()\n",
    "predictions=run_model(0, X,x_train , y_train, x_test , y_test)\n",
    "for i in range(1,5):\n",
    "    predictions=np.vstack((predictions,run_model(i, X,x_train , y_train, x_test , y_test)))\n",
    "\n",
    "predictions= np.transpose(predictions)\n",
    "\n",
    "# concat predictions with olriginal features\n",
    "new_X=np.concatenate((X, predictions), axis=1)\n",
    "#new_X=predictions #np.concatenate((X, predictions), axis=1)\n",
    "#====z_score normalization\n",
    "scaler = StandardScaler()\n",
    "scaler.fit(new_X)\n",
    "new_X = scaler.fit_transform(new_X)\n",
    "print(new_X.shape, predictions.shape)\n",
    "\n",
    "new_x_train,new_x_test,y_train,y_test = train_test_split(new_X,y,test_size = 0.20, random_state=42)\n",
    "\n",
    "input_dim=new_X.shape[1]\n"
   ]
  },
  {
   "cell_type": "code",
   "execution_count": 7,
   "id": "c65f8e90",
   "metadata": {},
   "outputs": [
    {
     "name": "stderr",
     "output_type": "stream",
     "text": [
      "/tmp/ipykernel_24229/703522063.py:3: DeprecationWarning: KerasClassifier is deprecated, use Sci-Keras (https://github.com/adriangb/scikeras) instead. See https://www.adriangb.com/scikeras/stable/migration.html for help migrating.\n",
      "  NN_clf1=KerasClassifier(build_fn=create_model, epochs=num_epochs, batch_size=batch_size, verbose=0)\n",
      "/tmp/ipykernel_24229/703522063.py:5: DeprecationWarning: KerasClassifier is deprecated, use Sci-Keras (https://github.com/adriangb/scikeras) instead. See https://www.adriangb.com/scikeras/stable/migration.html for help migrating.\n",
      "  NN_clf2=KerasClassifier(build_fn=create_model, epochs=num_epochs, batch_size=batch_size, verbose=0)\n",
      "/tmp/ipykernel_24229/703522063.py:7: DeprecationWarning: KerasClassifier is deprecated, use Sci-Keras (https://github.com/adriangb/scikeras) instead. See https://www.adriangb.com/scikeras/stable/migration.html for help migrating.\n",
      "  NN_clf3=KerasClassifier(build_fn=create_model, epochs=num_epochs, batch_size=batch_size, verbose=0)\n",
      "/tmp/ipykernel_24229/703522063.py:9: DeprecationWarning: KerasClassifier is deprecated, use Sci-Keras (https://github.com/adriangb/scikeras) instead. See https://www.adriangb.com/scikeras/stable/migration.html for help migrating.\n",
      "  NN_clf4=KerasClassifier(build_fn=create_model, epochs=num_epochs, batch_size=batch_size, verbose=0)\n",
      "/tmp/ipykernel_24229/703522063.py:11: DeprecationWarning: KerasClassifier is deprecated, use Sci-Keras (https://github.com/adriangb/scikeras) instead. See https://www.adriangb.com/scikeras/stable/migration.html for help migrating.\n",
      "  NN_clf5=KerasClassifier(build_fn=create_model, epochs=num_epochs, batch_size=batch_size, verbose=0)\n"
     ]
    },
    {
     "data": {
      "text/plain": [
       "105"
      ]
     },
     "execution_count": 7,
     "metadata": {},
     "output_type": "execute_result"
    }
   ],
   "source": [
    "input_dim=new_x_train.shape[1]\n",
    "\n",
    "NN_clf1=KerasClassifier(build_fn=create_model, epochs=num_epochs, batch_size=batch_size, verbose=0)\n",
    "NN_clf1._estimator_type = \"classifier\"\n",
    "NN_clf2=KerasClassifier(build_fn=create_model, epochs=num_epochs, batch_size=batch_size, verbose=0)\n",
    "NN_clf2._estimator_type = \"classifier\"\n",
    "NN_clf3=KerasClassifier(build_fn=create_model, epochs=num_epochs, batch_size=batch_size, verbose=0)\n",
    "NN_clf3._estimator_type = \"classifier\"\n",
    "NN_clf4=KerasClassifier(build_fn=create_model, epochs=num_epochs, batch_size=batch_size, verbose=0)\n",
    "NN_clf4._estimator_type = \"classifier\"\n",
    "NN_clf5=KerasClassifier(build_fn=create_model, epochs=num_epochs, batch_size=batch_size, verbose=0)\n",
    "NN_clf5._estimator_type = \"classifier\"\n",
    "input_dim\n"
   ]
  },
  {
   "cell_type": "code",
   "execution_count": 8,
   "id": "c7a5b4f0",
   "metadata": {},
   "outputs": [
    {
     "data": {
      "text/plain": [
       "[('NN1', <keras.wrappers.scikit_learn.KerasClassifier at 0x7fc09b70abf0>),\n",
       " ('NN2', <keras.wrappers.scikit_learn.KerasClassifier at 0x7fc0904040d0>),\n",
       " ('NN3', <keras.wrappers.scikit_learn.KerasClassifier at 0x7fc090406830>),\n",
       " ('NN4', <keras.wrappers.scikit_learn.KerasClassifier at 0x7fc090383370>),\n",
       " ('NN5', <keras.wrappers.scikit_learn.KerasClassifier at 0x7fc0903833a0>),\n",
       " ('rfc', RandomForestClassifier()),\n",
       " ('LR', LogisticRegression(solver='liblinear')),\n",
       " ('xgb',\n",
       "  XGBClassifier(base_score=None, booster=None, callbacks=None,\n",
       "                colsample_bylevel=None, colsample_bynode=None,\n",
       "                colsample_bytree=None, early_stopping_rounds=None,\n",
       "                enable_categorical=False, eval_metric=None, feature_types=None,\n",
       "                gamma=None, gpu_id=None, grow_policy=None, importance_type=None,\n",
       "                interaction_constraints=None, learning_rate=None, max_bin=None,\n",
       "                max_cat_threshold=None, max_cat_to_onehot=None,\n",
       "                max_delta_step=None, max_depth=None, max_leaves=None,\n",
       "                min_child_weight=None, missing=nan, monotone_constraints=None,\n",
       "                n_estimators=100, n_jobs=None, num_parallel_tree=None,\n",
       "                predictor=None, random_state=None, ...))]"
      ]
     },
     "execution_count": 8,
     "metadata": {},
     "output_type": "execute_result"
    }
   ],
   "source": [
    "rfc = RandomForestClassifier()\n",
    "knn =  KNeighborsClassifier()\n",
    "xgb = xgboost.XGBClassifier()\n",
    "LR=LogisticRegression(solver='liblinear')\n",
    "intermediate = [('NN1', NN_clf1), ('NN2', NN_clf2), ('NN3', NN_clf3), ('NN4', NN_clf4),\n",
    "             ('NN5', NN_clf5),('rfc', rfc),('LR', LR),('xgb', xgb), ]\n",
    "intermediate\n"
   ]
  },
  {
   "cell_type": "code",
   "execution_count": 9,
   "id": "bc001faa",
   "metadata": {},
   "outputs": [
    {
     "name": "stdout",
     "output_type": "stream",
     "text": [
      "6/6 [==============================] - 0s 2ms/step\n",
      "6/6 [==============================] - 0s 2ms/step\n",
      "6/6 [==============================] - 0s 2ms/step\n",
      "6/6 [==============================] - 0s 1ms/step\n",
      "6/6 [==============================] - 0s 2ms/step\n",
      "6/6 [==============================] - 0s 1ms/step\n",
      "6/6 [==============================] - 0s 2ms/step\n",
      "6/6 [==============================] - 0s 2ms/step\n",
      "6/6 [==============================] - 0s 1ms/step\n",
      "6/6 [==============================] - 0s 1ms/step\n",
      "6/6 [==============================] - 0s 1ms/step\n",
      "6/6 [==============================] - 0s 1ms/step\n",
      "6/6 [==============================] - 0s 1ms/step\n",
      "6/6 [==============================] - 0s 1ms/step\n",
      "6/6 [==============================] - 0s 2ms/step\n",
      "Done...in time:  34.62389373779297\n"
     ]
    }
   ],
   "source": [
    "# run after ad preictions of first level\n",
    "t1=time.time()\n",
    "i=0\n",
    "results=\"Dataset: \" + dataset + \"================================\\n\"\n",
    "clf = [NN_clf1,NN_clf2,NN_clf3,NN_clf4, NN_clf5, rfc, LR, xgb]\n",
    "for algo in clf:\n",
    "    t_temp=time.time()\n",
    "    y_predict = cross_val_predict(algo,new_X,y, cv=3) \n",
    "    #score = cross_val_score( algo,new_X,y,cv = 10,scoring = 'accuracy')\n",
    "    #print(\"The accuracy score of {} is:\".format(algo),score.mean(), \"time: \", time.time()-t_temp)\n",
    "    acc=accuracy_score(y_predict,y)\n",
    "    prc=precision_score(y_predict,y, average='weighted')\n",
    "    rec=recall_score(y_predict,y, average='weighted')\n",
    "    f1=f1_score(y_predict,y, average='weighted')\n",
    "\n",
    "\n",
    "    results = 'DL:%d' %(i) + ', Acc: %.2f' % (acc*100) + ', Pre: %.2f' % (prc*100)\n",
    "    results += ', Rec: %.2f' % (rec*100) + ', F1: %.2f' % (f1*100) + ', T:%.2f ' % (time.time()-t_temp) + ', PC:Tan'\n",
    "    results += ', Eb:%d ' %(num_epochs) + ', Bs:%d ' %(batch_size) + '\\n'\n",
    "    \n",
    "    path2= path + \"Res_Singl_DL_after.txt\" # the name of the file\n",
    "    write_results(results, path2)\n",
    "\n",
    "    i=i+1\n",
    "    #print(results)\n",
    "\n",
    "    '''path=\"results/Res_Singl_DL_Original.txt\" # the name of the file\n",
    "    write_results(results, path)'''\n",
    "\n",
    "print(\"Done...in time: \", time.time()-t1)"
   ]
  },
  {
   "cell_type": "code",
   "execution_count": 10,
   "id": "dbd84a37",
   "metadata": {},
   "outputs": [
    {
     "name": "stdout",
     "output_type": "stream",
     "text": [
      "3/3 [==============================] - 0s 2ms/step\n",
      "3/3 [==============================] - 0s 2ms/step\n",
      "3/3 [==============================] - 0s 2ms/step\n",
      "WARNING:tensorflow:5 out of the last 16 calls to <function Model.make_predict_function.<locals>.predict_function at 0x7fc0902639a0> triggered tf.function retracing. Tracing is expensive and the excessive number of tracings could be due to (1) creating @tf.function repeatedly in a loop, (2) passing tensors with different shapes, (3) passing Python objects instead of tensors. For (1), please define your @tf.function outside of the loop. For (2), @tf.function has reduce_retracing=True option that can avoid unnecessary retracing. For (3), please refer to https://www.tensorflow.org/guide/function#controlling_retracing and https://www.tensorflow.org/api_docs/python/tf/function for  more details.\n",
      "3/3 [==============================] - 0s 2ms/step\n",
      "WARNING:tensorflow:5 out of the last 13 calls to <function Model.make_predict_function.<locals>.predict_function at 0x7fc07063b880> triggered tf.function retracing. Tracing is expensive and the excessive number of tracings could be due to (1) creating @tf.function repeatedly in a loop, (2) passing tensors with different shapes, (3) passing Python objects instead of tensors. For (1), please define your @tf.function outside of the loop. For (2), @tf.function has reduce_retracing=True option that can avoid unnecessary retracing. For (3), please refer to https://www.tensorflow.org/guide/function#controlling_retracing and https://www.tensorflow.org/api_docs/python/tf/function for  more details.\n",
      "3/3 [==============================] - 0s 2ms/step\n",
      "3/3 [==============================] - 0s 2ms/step\n",
      "3/3 [==============================] - 0s 2ms/step\n",
      "3/3 [==============================] - 0s 2ms/step\n",
      "3/3 [==============================] - 0s 2ms/step\n",
      "3/3 [==============================] - 0s 2ms/step\n",
      "3/3 [==============================] - 0s 2ms/step\n",
      "3/3 [==============================] - 0s 2ms/step\n",
      "3/3 [==============================] - 0s 2ms/step\n",
      "3/3 [==============================] - 0s 2ms/step\n",
      "3/3 [==============================] - 0s 2ms/step\n",
      "3/3 [==============================] - 0s 2ms/step\n",
      "3/3 [==============================] - 0s 2ms/step\n",
      "3/3 [==============================] - 0s 2ms/step\n",
      "3/3 [==============================] - 0s 2ms/step\n",
      "3/3 [==============================] - 0s 2ms/step\n",
      "3/3 [==============================] - 0s 2ms/step\n",
      "3/3 [==============================] - 0s 2ms/step\n",
      "3/3 [==============================] - 0s 2ms/step\n",
      "3/3 [==============================] - 0s 2ms/step\n",
      "3/3 [==============================] - 0s 2ms/step\n",
      "4/4 [==============================] - 0s 2ms/step\n",
      "4/4 [==============================] - 0s 2ms/step\n",
      "4/4 [==============================] - 0s 2ms/step\n",
      "4/4 [==============================] - 0s 2ms/step\n",
      "4/4 [==============================] - 0s 2ms/step\n"
     ]
    },
    {
     "data": {
      "image/png": "[encoded data removed]",
      "text/plain": [
       "<Figure size 600x400 with 2 Axes>"
      ]
     },
     "metadata": {},
     "output_type": "display_data"
    },
    {
     "name": "stdout",
     "output_type": "stream",
     "text": [
      "Done...in time:  68.09044003486633\n"
     ]
    }
   ],
   "source": [
    "t2=time.time()\n",
    "#kfold = KFold(n_splits=10, shuffle=True)\n",
    "clf = StackingClassifier(estimators=intermediate, final_estimator=LogisticRegression()) #MLPClassifier()\n",
    "\n",
    "clf.fit(new_x_train , y_train)\n",
    "#score = cross_val_score(stack_model,new_X,y,cv = 10,scoring = 'accuracy')\n",
    "#score\n",
    "y_predict=clf.predict(new_x_test)\n",
    "acc=accuracy_score(y_predict,y_test)\n",
    "prc=precision_score(y_predict,y_test, average='weighted')\n",
    "rec=recall_score(y_predict,y_test, average='weighted')\n",
    "f1=f1_score(y_predict,y_test, average='weighted')\n",
    "confus_matrix= classification_report(y_test, y_predict)\n",
    "\n",
    "results ='Acc: %.2f' % (acc*100) + ', Pre: %.2f' % (prc*100)\n",
    "results += ', Rec: %.2f' % (rec*100) + ', F1: %.2f' % (f1*100) + ', T:%.2f ' % (time.time()-t_temp) + ', PC:Tan'\n",
    "results += ', Eb:%d ' %(num_epochs) + ', Bs:%d ' %(batch_size) + 'Dataset: ' + dataset + '\\n'\n",
    "results += 'Confusion matrix :\\n' + confus_matrix + '=======================\\n'\n",
    "\n",
    "\n",
    "path2= path + \"Res_Ensemble_DL.txt\" # the name of the file\n",
    "write_results(results, path2)\n",
    "\n",
    "draw_cnf_mat.draw(y_test, y_predict, 'Res_Ensemble_DL', target_names)\n",
    "\n",
    "print(\"Done...in time: \", time.time()-t2)"
   ]
  },
  {
   "cell_type": "code",
   "execution_count": 11,
   "id": "32cc38ed",
   "metadata": {},
   "outputs": [
    {
     "data": {
      "image/png": "[encoded data removed]",
      "text/plain": [
       "<Figure size 600x400 with 2 Axes>"
      ]
     },
     "metadata": {},
     "output_type": "display_data"
    },
    {
     "name": "stdout",
     "output_type": "stream",
     "text": [
      "Done...in time:  68.68629622459412\n"
     ]
    }
   ],
   "source": [
    "draw_cnf_mat.draw(y_test, y_predict, 'Res_Ensemble_DL', target_names)\n",
    "\n",
    "print(\"Done...in time: \", time.time()-t2)"
   ]
  },
  {
   "cell_type": "code",
   "execution_count": 12,
   "id": "551b215f",
   "metadata": {},
   "outputs": [
    {
     "name": "stdout",
     "output_type": "stream",
     "text": [
      "4/4 [==============================] - 0s 2ms/step\n",
      "4/4 [==============================] - 0s 2ms/step\n",
      "4/4 [==============================] - 0s 2ms/step\n",
      "4/4 [==============================] - 0s 2ms/step\n",
      "4/4 [==============================] - 0s 2ms/step\n",
      "Stacking model score: 0.835\n"
     ]
    }
   ],
   "source": [
    "print(\"Stacking model score: %.3f\" % clf.score(new_x_test , y_test))"
   ]
  },
  {
   "cell_type": "code",
   "execution_count": 13,
   "id": "129d5616",
   "metadata": {},
   "outputs": [
    {
     "name": "stdout",
     "output_type": "stream",
     "text": [
      "              precision    recall  f1-score   support\n",
      "\n",
      "         0.0       0.88      0.93      0.90        54\n",
      "         1.0       0.72      0.52      0.60        25\n",
      "         2.0       1.00      1.00      1.00        13\n",
      "         3.0       0.67      0.91      0.77        11\n",
      "\n",
      "    accuracy                           0.83       103\n",
      "   macro avg       0.82      0.84      0.82       103\n",
      "weighted avg       0.83      0.83      0.83       103\n",
      " \n",
      "\n"
     ]
    }
   ],
   "source": [
    "print(classification_report(y_predict,y_test), '\\n')"
   ]
  },
  {
   "cell_type": "code",
   "execution_count": null,
   "id": "70282ea7-dedc-46a8-a08b-a9d984165215",
   "metadata": {},
   "outputs": [],
   "source": []
  },
  {
   "cell_type": "code",
   "execution_count": null,
   "id": "388c6b31",
   "metadata": {},
   "outputs": [],
   "source": []
  }
 ],
 "metadata": {
  "kernelspec": {
   "display_name": "Python 3 (ipykernel)",
   "language": "python",
   "name": "python3"
  },
  "language_info": {
   "codemirror_mode": {
    "name": "ipython",
    "version": 3
   },
   "file_extension": ".py",
   "mimetype": "text/x-python",
   "name": "python",
   "nbconvert_exporter": "python",
   "pygments_lexer": "ipython3",
   "version": "3.10.6"
  }
 },
 "nbformat": 4,
 "nbformat_minor": 5
}
