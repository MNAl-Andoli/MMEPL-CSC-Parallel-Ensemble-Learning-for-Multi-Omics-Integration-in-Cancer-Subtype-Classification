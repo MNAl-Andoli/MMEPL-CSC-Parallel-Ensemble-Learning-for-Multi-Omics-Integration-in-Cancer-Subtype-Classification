{
 "cells": [
  {
   "cell_type": "code",
   "execution_count": 1,
   "id": "1a580563",
   "metadata": {},
   "outputs": [],
   "source": [
    "import numpy as np\n"
   ]
  },
  {
   "cell_type": "markdown",
   "id": "a50ee48b",
   "metadata": {},
   "source": [
    "# preprocess labels"
   ]
  },
  {
   "cell_type": "code",
   "execution_count": 7,
   "id": "2135fa55",
   "metadata": {},
   "outputs": [
    {
     "data": {
      "text/plain": [
       "array([[0.54762995, 0.5374199 , 0.59282094, ..., 0.54757816, 0.5668143 ,\n",
       "        0.5390061 ],\n",
       "       [0.5250994 , 0.54854506, 0.5806686 , ..., 0.52397037, 0.5371326 ,\n",
       "        0.5286143 ],\n",
       "       [0.6108149 , 0.5228634 , 0.48120987, ..., 0.5835329 , 0.4818491 ,\n",
       "        0.5542534 ],\n",
       "       ...,\n",
       "       [0.5572791 , 0.54080415, 0.5974454 , ..., 0.56989634, 0.5539948 ,\n",
       "        0.5368742 ],\n",
       "       [0.5260831 , 0.52931875, 0.57495093, ..., 0.548061  , 0.56592786,\n",
       "        0.54423773],\n",
       "       [0.57010436, 0.54138225, 0.53309184, ..., 0.559619  , 0.5202689 ,\n",
       "        0.5650401 ]])"
      ]
     },
     "execution_count": 7,
     "metadata": {},
     "output_type": "execute_result"
    }
   ],
   "source": [
    "data = np.genfromtxt('Data/latent_data_fpkm_gistic_rppa.csv', delimiter=',', dtype='str')\n",
    "\n",
    "data= data[1:,1:]\n",
    "'''labels = labels.astype(int)'''\n",
    "data=data.astype(float)\n",
    "data"
   ]
  },
  {
   "cell_type": "code",
   "execution_count": 10,
   "id": "06cc928e",
   "metadata": {},
   "outputs": [],
   "source": [
    "np.savetxt(\"latent_data_fpkm_gistic_rppa.csv\", data, delimiter=\",\")"
   ]
  },
  {
   "cell_type": "code",
   "execution_count": 11,
   "id": "ea45a768",
   "metadata": {},
   "outputs": [],
   "source": [
    "from sklearn.preprocessing import LabelEncoder\n",
    "encoder = LabelEncoder()\n",
    "encoded_labels = encoder.fit_transform(sort_cancer_labels)\n",
    "\n",
    "np.savetxt(\"preprocess/encoded_labels.csv\", encoded_labels, delimiter=\",\", fmt=\"%d\")"
   ]
  },
  {
   "cell_type": "code",
   "execution_count": 18,
   "id": "10900fb6",
   "metadata": {},
   "outputs": [
    {
     "name": "stdout",
     "output_type": "stream",
     "text": [
      ": 18\n",
      "ACC: 45\n",
      "BLCA: 342\n",
      "BRCA: 617\n",
      "CESC: 170\n",
      "CHOL: 30\n",
      "COAD: 208\n",
      "DLBC: 33\n",
      "ESCA: 124\n",
      "HNSC: 314\n",
      "KICH: 62\n",
      "KIRC: 201\n",
      "KIRP: 203\n",
      "LGG: 421\n",
      "LIHC: 176\n",
      "LUAD: 311\n",
      "LUSC: 232\n",
      "MESO: 61\n",
      "OV: 330\n",
      "PAAD: 97\n",
      "PCPG: 80\n",
      "PRAD: 347\n",
      "READ: 67\n",
      "SARC: 217\n",
      "SKCM: 333\n",
      "STAD: 304\n",
      "TGCT: 104\n",
      "THCA: 367\n",
      "THYM: 90\n",
      "UCEC: 278\n",
      "UCS: 47\n",
      "UVM: 12\n"
     ]
    }
   ],
   "source": [
    "unique_labels, label_counts = np.unique(sort_cancer_labels, return_counts=True)\n",
    "\n",
    "for label, count in zip(unique_labels, label_counts):\n",
    "    print(\"{}: {}\".format(label, count))\n"
   ]
  },
  {
   "cell_type": "code",
   "execution_count": null,
   "id": "65566d4c",
   "metadata": {},
   "outputs": [],
   "source": []
  }
 ],
 "metadata": {
  "kernelspec": {
   "display_name": "Python 3 (ipykernel)",
   "language": "python",
   "name": "python3"
  },
  "language_info": {
   "codemirror_mode": {
    "name": "ipython",
    "version": 3
   },
   "file_extension": ".py",
   "mimetype": "text/x-python",
   "name": "python",
   "nbconvert_exporter": "python",
   "pygments_lexer": "ipython3",
   "version": "3.10.6"
  }
 },
 "nbformat": 4,
 "nbformat_minor": 5
}
