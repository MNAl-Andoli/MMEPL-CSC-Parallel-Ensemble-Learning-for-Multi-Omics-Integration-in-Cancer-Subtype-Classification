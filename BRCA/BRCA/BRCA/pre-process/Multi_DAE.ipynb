{
 "cells": [
  {
   "cell_type": "code",
   "execution_count": 1,
   "id": "951b1646-c8ad-4033-9cce-3b321e369635",
   "metadata": {},
   "outputs": [
    {
     "name": "stderr",
     "output_type": "stream",
     "text": [
      "2023-03-05 19:05:04.998133: I tensorflow/core/platform/cpu_feature_guard.cc:193] This TensorFlow binary is optimized with oneAPI Deep Neural Network Library (oneDNN) to use the following CPU instructions in performance-critical operations:  AVX2 FMA\n",
      "To enable them in other operations, rebuild TensorFlow with the appropriate compiler flags.\n",
      "2023-03-05 19:05:09.971827: W tensorflow/compiler/xla/stream_executor/platform/default/dso_loader.cc:64] Could not load dynamic library 'libcudart.so.11.0'; dlerror: libcudart.so.11.0: cannot open shared object file: No such file or directory\n",
      "2023-03-05 19:05:09.971898: I tensorflow/compiler/xla/stream_executor/cuda/cudart_stub.cc:29] Ignore above cudart dlerror if you do not have a GPU set up on your machine.\n",
      "2023-03-05 19:05:20.163185: W tensorflow/compiler/xla/stream_executor/platform/default/dso_loader.cc:64] Could not load dynamic library 'libnvinfer.so.7'; dlerror: libnvinfer.so.7: cannot open shared object file: No such file or directory\n",
      "2023-03-05 19:05:20.163527: W tensorflow/compiler/xla/stream_executor/platform/default/dso_loader.cc:64] Could not load dynamic library 'libnvinfer_plugin.so.7'; dlerror: libnvinfer_plugin.so.7: cannot open shared object file: No such file or directory\n",
      "2023-03-05 19:05:20.163558: W tensorflow/compiler/tf2tensorrt/utils/py_utils.cc:38] TF-TRT Warning: Cannot dlopen some TensorRT libraries. If you would like to use Nvidia GPU with TensorRT, please make sure the missing libraries mentioned above are installed properly.\n"
     ]
    }
   ],
   "source": [
    "import numpy as np\n",
    "import tensorflow as tf\n",
    "from tensorflow import keras\n",
    "from tensorflow.keras import layers\n",
    "\n",
    "# Load the CSV files as numpy arrays\n",
    "data1 = np.genfromtxt('clear_sorted_new_L4_match_miRNA.csv', delimiter=',')# shape (num_samples, input_dim1)\n",
    "data2 = np.genfromtxt('clear_sorted_new_miRNA_match_L4.csv', delimiter=',')  # shape (num_samples, input_dim2)\n",
    "\n",
    "\n",
    "# Normalize the data\n",
    "#data1 = (data1 - np.mean(data1, axis=0)) / np.std(data1, axis=0)\n",
    "#data2 = (data2 - np.mean(data2, axis=0)) / np.std(data2, axis=0)\n",
    "#data3 = (data3 - np.mean(data3, axis=0)) / np.std(data3, axis=0)\n"
   ]
  },
  {
   "cell_type": "code",
   "execution_count": 2,
   "id": "9ce1f6de-1f28-4b82-9502-e809a22ccbba",
   "metadata": {},
   "outputs": [
    {
     "name": "stdout",
     "output_type": "stream",
     "text": [
      "shapes: 258 2454\n"
     ]
    }
   ],
   "source": [
    "input_dim1 = data1.shape[1]\n",
    "input_dim2 = data2.shape[1]\n",
    "print(\"shapes:\", input_dim1, input_dim2)"
   ]
  },
  {
   "cell_type": "code",
   "execution_count": 4,
   "id": "1451d90f-c241-4bf2-820c-30b4451f0baa",
   "metadata": {},
   "outputs": [
    {
     "name": "stdout",
     "output_type": "stream",
     "text": [
      "Epoch 1/2\n",
      "196/196 [==============================] - 13s 47ms/step - loss: 5.0165\n",
      "Epoch 2/2\n",
      "196/196 [==============================] - 9s 44ms/step - loss: 5.0020\n"
     ]
    },
    {
     "data": {
      "text/plain": [
       "<keras.callbacks.History at 0x7f744c077fa0>"
      ]
     },
     "execution_count": 4,
     "metadata": {},
     "output_type": "execute_result"
    }
   ],
   "source": [
    "import numpy as np\n",
    "from tensorflow import keras\n",
    "from tensorflow.keras import layers\n",
    "\n",
    "# Define input layers for each dataset\n",
    "input1 = layers.Input(shape=(input_dim1,))\n",
    "input2 = layers.Input(shape=(input_dim2,))\n",
    "\n",
    "# Define encoder layers for dataset 1\n",
    "x1 = layers.Dense(512, activation=\"relu\")(input1)\n",
    "x1 = layers.Dense(256, activation=\"relu\")(x1)\n",
    "encoded1 = layers.Dense(64, activation=\"relu\")(x1)\n",
    "\n",
    "# Define encoder layers for dataset 2\n",
    "x2 = layers.Dense(512, activation=\"relu\")(input2)\n",
    "x2 = layers.Dense(256, activation=\"relu\")(x2)\n",
    "encoded2 = layers.Dense(64, activation=\"relu\")(x2)\n",
    "\n",
    "\n",
    "# Concatenate the encoded representations of the three datasets\n",
    "merged = layers.concatenate([encoded1, encoded2])\n",
    "\n",
    "# Define decoder layers for the merged dataset\n",
    "x4 = layers.Dense(128, activation=\"relu\")(merged)\n",
    "x4 = layers.Dense(256, activation=\"relu\")(x4)\n",
    "decoded = layers.Dense(input_dim1 + input_dim2, activation=\"sigmoid\")(x4)\n",
    "\n",
    "# Define the autoencoder model\n",
    "model = keras.Model(inputs=[input1, input2], outputs=decoded)\n",
    "\n",
    "\n",
    "encoder = keras.Model(inputs=[input1, input2], outputs=merged)\n",
    "\n",
    "# Compile the model\n",
    "model.compile(optimizer=\"adam\", loss=\"mean_squared_error\")\n",
    "\n",
    "# Train the model on the data\n",
    "model.fit([data1, data2], np.concatenate([data1, data2], axis=1), epochs=2, batch_size=32)\n"
   ]
  },
  {
   "cell_type": "code",
   "execution_count": 5,
   "id": "0370327a-5a3a-4e72-a6c7-1836ba76757d",
   "metadata": {},
   "outputs": [
    {
     "name": "stdout",
     "output_type": "stream",
     "text": [
      "196/196 [==============================] - 1s 4ms/step\n"
     ]
    }
   ],
   "source": [
    "# Define the encoder model\n",
    "encoded_data = encoder.predict([data1, data2])\n",
    "# Compile the encoder model\n",
    "#encoder.compile(optimizer=\"adam\", loss=\"mean_squared_error\")\n",
    "# Save the features to a CSV file\n",
    "np.savetxt('latent_data.csv', encoded_data, delimiter=',')"
   ]
  },
  {
   "cell_type": "code",
   "execution_count": 6,
   "id": "2bd436e9-a655-411a-961f-9230d1acbb09",
   "metadata": {},
   "outputs": [
    {
     "data": {
      "text/plain": [
       "(6241, 128)"
      ]
     },
     "execution_count": 6,
     "metadata": {},
     "output_type": "execute_result"
    }
   ],
   "source": [
    "encoded_data.shape"
   ]
  },
  {
   "cell_type": "code",
   "execution_count": null,
   "id": "3fe05e53-4210-483a-8bfe-2b3b852aa90d",
   "metadata": {},
   "outputs": [],
   "source": []
  }
 ],
 "metadata": {
  "kernelspec": {
   "display_name": "Python 3 (ipykernel)",
   "language": "python",
   "name": "python3"
  },
  "language_info": {
   "codemirror_mode": {
    "name": "ipython",
    "version": 3
   },
   "file_extension": ".py",
   "mimetype": "text/x-python",
   "name": "python",
   "nbconvert_exporter": "python",
   "pygments_lexer": "ipython3",
   "version": "3.10.6"
  }
 },
 "nbformat": 4,
 "nbformat_minor": 5
}
