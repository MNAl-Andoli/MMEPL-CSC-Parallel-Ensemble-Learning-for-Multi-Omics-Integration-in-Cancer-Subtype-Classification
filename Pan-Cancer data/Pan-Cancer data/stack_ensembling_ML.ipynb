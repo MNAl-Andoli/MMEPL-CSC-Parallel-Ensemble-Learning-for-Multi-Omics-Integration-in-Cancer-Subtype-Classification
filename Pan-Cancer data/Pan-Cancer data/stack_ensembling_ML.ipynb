{
 "cells": [
  {
   "cell_type": "code",
   "execution_count": 1,
   "id": "2446a2de",
   "metadata": {},
   "outputs": [],
   "source": [
    "from sklearn.tree import DecisionTreeClassifier\n",
    "from sklearn.ensemble import RandomForestClassifier\n",
    "from sklearn.neighbors import KNeighborsClassifier\n",
    "from sklearn.linear_model import LogisticRegression\n",
    "from sklearn.ensemble import StackingClassifier\n",
    "from sklearn.svm import SVC\n",
    "\n",
    "import xgboost\n",
    "import pandas as pd\n",
    "from sklearn.model_selection import KFold\n",
    "from sklearn.model_selection import cross_val_score\n",
    "\n",
    "from sklearn.model_selection import train_test_split\n",
    "from sklearn.preprocessing import StandardScaler\n",
    "from sklearn.metrics import precision_score, recall_score, f1_score, accuracy_score\n",
    "import time\n",
    "import numpy as np\n",
    "import datetime\n",
    "from os.path import exists\n",
    "\n",
    "from sklearn.ensemble import StackingClassifier\n",
    "from sklearn.neural_network import MLPClassifier"
   ]
  },
  {
   "cell_type": "code",
   "execution_count": 2,
   "id": "6dcc3d98",
   "metadata": {},
   "outputs": [
    {
     "name": "stdout",
     "output_type": "stream",
     "text": [
      "Shape of Train Data : (269594, 15)\n",
      "Shape of Test Data : (67399, 15)\n"
     ]
    }
   ],
   "source": [
    "\n",
    "dataset='Fault_data'\n",
    "data_level=\"L6/\"\n",
    "path=\"fault_data/\" + data_level\n",
    "PC='Leovo'\n",
    "\n",
    "x_train = np.load(path+\"X_train.npy\")\n",
    "x_test = np.load(path+\"X_test.npy\")\n",
    "y_train = np.load(path+\"y_train.npy\")\n",
    "y_test = np.load(path+\"y_test.npy\")\n",
    "\n",
    "now = datetime.datetime.now()\n",
    "Time_Now= now.strftime(\"%Y-%m-%d %H:%M:%S\")\n",
    "\n",
    "\n",
    "print(\"Shape of Train Data : {}\".format(x_train.shape))\n",
    "print(\"Shape of Test Data : {}\".format(x_test.shape))"
   ]
  },
  {
   "cell_type": "code",
   "execution_count": 3,
   "id": "881f3ec5-9129-4f5a-b0bd-47dfbc0708f4",
   "metadata": {},
   "outputs": [],
   "source": [
    "#produce results\n",
    "def write_results(results, path):\n",
    "    \n",
    "    file_exists = exists(path)\n",
    "    if not(file_exists):\n",
    "        with open(path,\"a+\") as f:\n",
    "            f.write(results)\n",
    "            f.write(\"\\n\")\n",
    "    else:\n",
    "        with open(path,\"a+\") as f:\n",
    "            f.write(results)"
   ]
  },
  {
   "cell_type": "code",
   "execution_count": 4,
   "id": "36e98fee",
   "metadata": {},
   "outputs": [],
   "source": [
    "dtc =  DecisionTreeClassifier()\n",
    "rfc = RandomForestClassifier()\n",
    "knn =  KNeighborsClassifier()\n",
    "xgb = xgboost.XGBClassifier()\n",
    "svm = SVC(probability=True)"
   ]
  },
  {
   "cell_type": "code",
   "execution_count": 5,
   "id": "74867530",
   "metadata": {},
   "outputs": [
    {
     "data": {
      "text/plain": [
       "'clf = [dtc,rfc,knn,xgb]\\nfor algo in clf:\\n    score = cross_val_score( algo,X,y,cv = 10,scoring = \\'accuracy\\')\\n    print(\"The accuracy score of {} is:\".format(algo),score.mean())'"
      ]
     },
     "execution_count": 5,
     "metadata": {},
     "output_type": "execute_result"
    }
   ],
   "source": [
    "'''clf = [dtc,rfc,knn,xgb]\n",
    "for algo in clf:\n",
    "    score = cross_val_score( algo,X,y,cv = 10,scoring = 'accuracy')\n",
    "    print(\"The accuracy score of {} is:\".format(algo),score.mean())'''"
   ]
  },
  {
   "cell_type": "code",
   "execution_count": 6,
   "id": "5b62169e",
   "metadata": {},
   "outputs": [],
   "source": [
    "dtc =  DecisionTreeClassifier()\n",
    "rfc = RandomForestClassifier()\n",
    "knn =  KNeighborsClassifier()\n",
    "xgb = xgboost.XGBClassifier()\n",
    "svm = SVC(probability=True)\n",
    "classifiers = [('dtc',dtc),('rfc',rfc),('knn',knn) ,('xgb',xgb)] #, ('svm',svm)list of (str, estimator)"
   ]
  },
  {
   "cell_type": "code",
   "execution_count": 7,
   "id": "54a9d89b",
   "metadata": {},
   "outputs": [
    {
     "name": "stderr",
     "output_type": "stream",
     "text": [
      "/home/alandoli/.local/lib/python3.10/site-packages/sklearn/preprocessing/_label.py:99: DataConversionWarning: A column-vector y was passed when a 1d array was expected. Please change the shape of y to (n_samples, ), for example using ravel().\n",
      "  y = column_or_1d(y, warn=True)\n",
      "/home/alandoli/.local/lib/python3.10/site-packages/sklearn/preprocessing/_label.py:134: DataConversionWarning: A column-vector y was passed when a 1d array was expected. Please change the shape of y to (n_samples, ), for example using ravel().\n",
      "  y = column_or_1d(y, dtype=self.classes_.dtype, warn=True)\n",
      "/home/alandoli/.local/lib/python3.10/site-packages/sklearn/linear_model/_logistic.py:458: ConvergenceWarning: lbfgs failed to converge (status=1):\n",
      "STOP: TOTAL NO. of ITERATIONS REACHED LIMIT.\n",
      "\n",
      "Increase the number of iterations (max_iter) or scale the data as shown in:\n",
      "    https://scikit-learn.org/stable/modules/preprocessing.html\n",
      "Please also refer to the documentation for alternative solver options:\n",
      "    https://scikit-learn.org/stable/modules/linear_model.html#logistic-regression\n",
      "  n_iter_i = _check_optimize_result(\n"
     ]
    },
    {
     "name": "stdout",
     "output_type": "stream",
     "text": [
      "Acc: 99.09, Pre: 99.09, Rec: 99.09, F1: 99.09, PC:LenovoDataset: Fault_data\n",
      "\n"
     ]
    },
    {
     "data": {
      "text/plain": [
       "2503.7044224739075"
      ]
     },
     "execution_count": 7,
     "metadata": {},
     "output_type": "execute_result"
    }
   ],
   "source": [
    "t1= time.time()\n",
    "lr = LogisticRegression()\n",
    "clf = StackingClassifier( estimators = classifiers,final_estimator = lr)\n",
    "\n",
    "\n",
    "clf.fit(x_train , y_train)\n",
    "#score = cross_val_score(stack_model,new_X,y,cv = 10,scoring = 'accuracy')\n",
    "#score\n",
    "y_predict=clf.predict(x_test)\n",
    "acc=accuracy_score(y_predict,y_test)\n",
    "prc=precision_score(y_predict,y_test, average='weighted')\n",
    "rec=recall_score(y_predict,y_test, average='weighted')\n",
    "f1=f1_score(y_predict,y_test, average='weighted')\n",
    "\n",
    "results ='Acc: %.2f' % (acc*100) + ', Pre: %.2f' % (prc*100)\n",
    "results += ', Rec: %.2f' % (rec*100) + ', F1: %.2f' % (f1*100) + ', PC:Lenovo'\n",
    "results += 'Dataset: ' + dataset + '\\n'\n",
    "    \n",
    "\n",
    "\n",
    "\n",
    "print (results) \n",
    "t2=time.time()\n",
    "t2-t1"
   ]
  },
  {
   "cell_type": "code",
   "execution_count": 8,
   "id": "3869d251-2ae1-4490-8ce6-28a3f2347c1c",
   "metadata": {},
   "outputs": [],
   "source": [
    "results+= 'Done in time: ' + str(round(t2-t1))\n",
    "\n",
    "path2= path + \"results/Ensemble_ML_results.txt\" # the name of the file\n",
    "write_results(results, path2)\n"
   ]
  },
  {
   "cell_type": "code",
   "execution_count": null,
   "id": "865604b3-4dc7-4fef-9c25-e7f3ace68917",
   "metadata": {},
   "outputs": [],
   "source": []
  }
 ],
 "metadata": {
  "kernelspec": {
   "display_name": "Python 3 (ipykernel)",
   "language": "python",
   "name": "python3"
  },
  "language_info": {
   "codemirror_mode": {
    "name": "ipython",
    "version": 3
   },
   "file_extension": ".py",
   "mimetype": "text/x-python",
   "name": "python",
   "nbconvert_exporter": "python",
   "pygments_lexer": "ipython3",
   "version": "3.10.6"
  }
 },
 "nbformat": 4,
 "nbformat_minor": 5
}
