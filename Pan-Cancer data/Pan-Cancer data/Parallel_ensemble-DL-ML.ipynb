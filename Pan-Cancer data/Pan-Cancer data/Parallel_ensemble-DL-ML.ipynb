{
 "cells": [
  {
   "cell_type": "code",
   "execution_count": 1,
   "id": "7c99e295",
   "metadata": {},
   "outputs": [],
   "source": [
    "import ray\n",
    "from sklearn.tree import DecisionTreeClassifier\n",
    "from sklearn.ensemble import RandomForestClassifier\n",
    "from sklearn.neighbors import KNeighborsClassifier\n",
    "from sklearn.linear_model import LogisticRegression\n",
    "from sklearn.ensemble import StackingClassifier\n",
    "import xgboost\n",
    "import pandas as pd\n",
    "from sklearn.model_selection import KFold\n",
    "from sklearn.model_selection import cross_val_score\n",
    "from os.path import exists\n",
    "from sklearn.model_selection import cross_val_predict\n",
    "from sklearn.svm import SVC\n",
    "\n",
    "from sklearn.model_selection import train_test_split\n",
    "from sklearn.preprocessing import StandardScaler\n",
    "from sklearn.metrics import precision_score, recall_score, f1_score, accuracy_score\n",
    "\n",
    "import datetime\n",
    "import numpy as np\n",
    "import time\n",
    "from sklearn.ensemble import StackingClassifier\n",
    "from sklearn.neural_network import MLPClassifier"
   ]
  },
  {
   "cell_type": "code",
   "execution_count": 2,
   "id": "a81bf3bf",
   "metadata": {},
   "outputs": [
    {
     "name": "stdout",
     "output_type": "stream",
     "text": [
      "Shape of Train Data : (6241, 128)\n",
      "Shape of Test Data : (6241,)\n"
     ]
    }
   ],
   "source": [
    "X = np.loadtxt('data/latent_data_miRNA_L4.csv', delimiter=',')\n",
    "\n",
    "\n",
    "y = np.loadtxt('data/encoded_labels.csv')\n",
    "\n",
    "print(\"Shape of Train Data : {}\".format(X.shape))\n",
    "print(\"Shape of Test Data : {}\".format(y.shape))\n",
    "\n",
    "input_dim=X.shape[1]\n",
    "num_classes=len(np.unique(y))\n",
    "\n",
    "num_epochs=200\n",
    "batch_size=128\n",
    "num_P=1 #num_processors per one function\n",
    "\n",
    "now = datetime.datetime.now()\n",
    "Time_Now= now.strftime(\"%Y-%m-%d %H:%M:%S\")\n",
    "\n",
    "dataset= 'PAN'\n"
   ]
  },
  {
   "cell_type": "code",
   "execution_count": 3,
   "id": "c2de82ac",
   "metadata": {},
   "outputs": [
    {
     "name": "stderr",
     "output_type": "stream",
     "text": [
      "2023-03-15 14:56:03,847\tINFO worker.py:1352 -- Connecting to existing Ray cluster at address: 10.193.5.90:6379...\n",
      "2023-03-15 14:56:03,894\tINFO worker.py:1529 -- Connected to Ray cluster. View the dashboard at \u001b[1m\u001b[32m127.0.0.1:8265 \u001b[39m\u001b[22m\n"
     ]
    }
   ],
   "source": [
    "cluster= True\n",
    "PC=''\n",
    "if (cluster):\n",
    "    ray.init(address='auto') # parallel in cluster of PCs\n",
    "    PC='Cluster'\n",
    "else:\n",
    "    ray.init() # parallel in one PC\n",
    "    PC='Leovo'\n",
    "\n"
   ]
  },
  {
   "cell_type": "code",
   "execution_count": 4,
   "id": "a0169818",
   "metadata": {},
   "outputs": [],
   "source": [
    "#produce results\n",
    "path = 'data/results_miRNA_L4/'\n",
    "\n",
    "def write_results(results, path):\n",
    "    \n",
    "    file_exists = exists(path)\n",
    "    if not(file_exists):\n",
    "        with open(path,\"a+\") as f:\n",
    "            f.write(results)\n",
    "            f.write(\"\\n\")\n",
    "    else:\n",
    "        with open(path,\"a+\") as f:\n",
    "            f.write(results)"
   ]
  },
  {
   "cell_type": "code",
   "execution_count": 5,
   "id": "1f840b8e",
   "metadata": {},
   "outputs": [
    {
     "name": "stderr",
     "output_type": "stream",
     "text": [
      "2023-03-15 14:56:03.950746: I tensorflow/core/platform/cpu_feature_guard.cc:193] This TensorFlow binary is optimized with oneAPI Deep Neural Network Library (oneDNN) to use the following CPU instructions in performance-critical operations:  AVX2 FMA\n",
      "To enable them in other operations, rebuild TensorFlow with the appropriate compiler flags.\n",
      "2023-03-15 14:56:04.105370: W tensorflow/compiler/xla/stream_executor/platform/default/dso_loader.cc:64] Could not load dynamic library 'libcudart.so.11.0'; dlerror: libcudart.so.11.0: cannot open shared object file: No such file or directory\n",
      "2023-03-15 14:56:04.105393: I tensorflow/compiler/xla/stream_executor/cuda/cudart_stub.cc:29] Ignore above cudart dlerror if you do not have a GPU set up on your machine.\n",
      "2023-03-15 14:56:04.776669: W tensorflow/compiler/xla/stream_executor/platform/default/dso_loader.cc:64] Could not load dynamic library 'libnvinfer.so.7'; dlerror: libnvinfer.so.7: cannot open shared object file: No such file or directory\n",
      "2023-03-15 14:56:04.776771: W tensorflow/compiler/xla/stream_executor/platform/default/dso_loader.cc:64] Could not load dynamic library 'libnvinfer_plugin.so.7'; dlerror: libnvinfer_plugin.so.7: cannot open shared object file: No such file or directory\n",
      "2023-03-15 14:56:04.776781: W tensorflow/compiler/tf2tensorrt/utils/py_utils.cc:38] TF-TRT Warning: Cannot dlopen some TensorRT libraries. If you would like to use Nvidia GPU with TensorRT, please make sure the missing libraries mentioned above are installed properly.\n"
     ]
    }
   ],
   "source": [
    "from tensorflow.keras.models import Sequential\n",
    "from tensorflow.keras.layers import Dense\n",
    "from tensorflow.keras.layers import Dropout\n",
    "from tensorflow.keras.callbacks import EarlyStopping\n",
    "from keras.wrappers.scikit_learn import KerasClassifier\n",
    "\n",
    "x_train,x_test,y_train,y_test = train_test_split(X,y,test_size = 0.20)\n",
    "\n",
    "input_dim=x_train.shape[1]\n",
    "\n",
    "def create_model():\n",
    "    \n",
    "    #early_stop = EarlyStopping(monitor='loss', patience=2)\n",
    "    model = Sequential()\n",
    "\n",
    "\n",
    "    model.add(Dense(128, activation='relu', input_shape=(input_dim,),kernel_initializer='random_uniform'))\n",
    "\n",
    "    model.add(Dense(64, activation='relu',kernel_initializer='random_uniform'))\n",
    "    #model.add(Dense(64, activation='relu',kernel_initializer='random_uniform'))\n",
    "    #model.add(Dense(32, activation='relu',kernel_initializer='random_uniform'))\n",
    "    #model.add(Dense(16, activation='relu'))\n",
    "    model.add(Dense(num_classes, activation='softmax'))\n",
    "\n",
    "    model.compile(optimizer='Adam', loss='sparse_categorical_crossentropy', metrics=['accuracy'])\n",
    "    #model.compile(optimizer='Adam', loss='categorical_crossentropy', metrics=['accuracy'])\n",
    "\n",
    "    \n",
    "    return model"
   ]
  },
  {
   "cell_type": "code",
   "execution_count": 6,
   "id": "452842c0",
   "metadata": {},
   "outputs": [
    {
     "name": "stderr",
     "output_type": "stream",
     "text": [
      "\u001b[2m\u001b[36m(pid=396770)\u001b[0m 2023-03-15 14:56:06.483684: I tensorflow/core/platform/cpu_feature_guard.cc:193] This TensorFlow binary is optimized with oneAPI Deep Neural Network Library (oneDNN) to use the following CPU instructions in performance-critical operations:  AVX2 FMA\n",
      "\u001b[2m\u001b[36m(pid=396770)\u001b[0m To enable them in other operations, rebuild TensorFlow with the appropriate compiler flags.\n",
      "\u001b[2m\u001b[36m(pid=396788)\u001b[0m 2023-03-15 14:56:06.494704: I tensorflow/core/platform/cpu_feature_guard.cc:193] This TensorFlow binary is optimized with oneAPI Deep Neural Network Library (oneDNN) to use the following CPU instructions in performance-critical operations:  AVX2 FMA\n",
      "\u001b[2m\u001b[36m(pid=396788)\u001b[0m To enable them in other operations, rebuild TensorFlow with the appropriate compiler flags.\n",
      "\u001b[2m\u001b[36m(pid=396771)\u001b[0m 2023-03-15 14:56:06.572854: I tensorflow/core/platform/cpu_feature_guard.cc:193] This TensorFlow binary is optimized with oneAPI Deep Neural Network Library (oneDNN) to use the following CPU instructions in performance-critical operations:  AVX2 FMA\n",
      "\u001b[2m\u001b[36m(pid=396771)\u001b[0m To enable them in other operations, rebuild TensorFlow with the appropriate compiler flags.\n",
      "\u001b[2m\u001b[36m(pid=396807)\u001b[0m 2023-03-15 14:56:06.603231: I tensorflow/core/platform/cpu_feature_guard.cc:193] This TensorFlow binary is optimized with oneAPI Deep Neural Network Library (oneDNN) to use the following CPU instructions in performance-critical operations:  AVX2 FMA\n",
      "\u001b[2m\u001b[36m(pid=396807)\u001b[0m To enable them in other operations, rebuild TensorFlow with the appropriate compiler flags.\n",
      "\u001b[2m\u001b[36m(pid=396788)\u001b[0m 2023-03-15 14:56:06.736633: W tensorflow/compiler/xla/stream_executor/platform/default/dso_loader.cc:64] Could not load dynamic library 'libcudart.so.11.0'; dlerror: libcudart.so.11.0: cannot open shared object file: No such file or directory\n",
      "\u001b[2m\u001b[36m(pid=396788)\u001b[0m 2023-03-15 14:56:06.736684: I tensorflow/compiler/xla/stream_executor/cuda/cudart_stub.cc:29] Ignore above cudart dlerror if you do not have a GPU set up on your machine.\n",
      "\u001b[2m\u001b[36m(pid=396770)\u001b[0m 2023-03-15 14:56:06.752509: W tensorflow/compiler/xla/stream_executor/platform/default/dso_loader.cc:64] Could not load dynamic library 'libcudart.so.11.0'; dlerror: libcudart.so.11.0: cannot open shared object file: No such file or directory\n",
      "\u001b[2m\u001b[36m(pid=396770)\u001b[0m 2023-03-15 14:56:06.752556: I tensorflow/compiler/xla/stream_executor/cuda/cudart_stub.cc:29] Ignore above cudart dlerror if you do not have a GPU set up on your machine.\n",
      "\u001b[2m\u001b[36m(pid=396771)\u001b[0m 2023-03-15 14:56:06.834681: W tensorflow/compiler/xla/stream_executor/platform/default/dso_loader.cc:64] Could not load dynamic library 'libcudart.so.11.0'; dlerror: libcudart.so.11.0: cannot open shared object file: No such file or directory\n",
      "\u001b[2m\u001b[36m(pid=396771)\u001b[0m 2023-03-15 14:56:06.834732: I tensorflow/compiler/xla/stream_executor/cuda/cudart_stub.cc:29] Ignore above cudart dlerror if you do not have a GPU set up on your machine.\n",
      "\u001b[2m\u001b[36m(pid=396807)\u001b[0m 2023-03-15 14:56:06.876253: W tensorflow/compiler/xla/stream_executor/platform/default/dso_loader.cc:64] Could not load dynamic library 'libcudart.so.11.0'; dlerror: libcudart.so.11.0: cannot open shared object file: No such file or directory\n",
      "\u001b[2m\u001b[36m(pid=396807)\u001b[0m 2023-03-15 14:56:06.876300: I tensorflow/compiler/xla/stream_executor/cuda/cudart_stub.cc:29] Ignore above cudart dlerror if you do not have a GPU set up on your machine.\n",
      "\u001b[2m\u001b[36m(pid=396770)\u001b[0m 2023-03-15 14:56:08.067364: W tensorflow/compiler/xla/stream_executor/platform/default/dso_loader.cc:64] Could not load dynamic library 'libnvinfer.so.7'; dlerror: libnvinfer.so.7: cannot open shared object file: No such file or directory\n",
      "\u001b[2m\u001b[36m(pid=396770)\u001b[0m 2023-03-15 14:56:08.067503: W tensorflow/compiler/xla/stream_executor/platform/default/dso_loader.cc:64] Could not load dynamic library 'libnvinfer_plugin.so.7'; dlerror: libnvinfer_plugin.so.7: cannot open shared object file: No such file or directory\n",
      "\u001b[2m\u001b[36m(pid=396770)\u001b[0m 2023-03-15 14:56:08.067527: W tensorflow/compiler/tf2tensorrt/utils/py_utils.cc:38] TF-TRT Warning: Cannot dlopen some TensorRT libraries. If you would like to use Nvidia GPU with TensorRT, please make sure the missing libraries mentioned above are installed properly.\n",
      "\u001b[2m\u001b[36m(pid=396788)\u001b[0m 2023-03-15 14:56:08.078626: W tensorflow/compiler/xla/stream_executor/platform/default/dso_loader.cc:64] Could not load dynamic library 'libnvinfer.so.7'; dlerror: libnvinfer.so.7: cannot open shared object file: No such file or directory\n",
      "\u001b[2m\u001b[36m(pid=396788)\u001b[0m 2023-03-15 14:56:08.078747: W tensorflow/compiler/xla/stream_executor/platform/default/dso_loader.cc:64] Could not load dynamic library 'libnvinfer_plugin.so.7'; dlerror: libnvinfer_plugin.so.7: cannot open shared object file: No such file or directory\n",
      "\u001b[2m\u001b[36m(pid=396788)\u001b[0m 2023-03-15 14:56:08.078769: W tensorflow/compiler/tf2tensorrt/utils/py_utils.cc:38] TF-TRT Warning: Cannot dlopen some TensorRT libraries. If you would like to use Nvidia GPU with TensorRT, please make sure the missing libraries mentioned above are installed properly.\n",
      "\u001b[2m\u001b[36m(pid=396771)\u001b[0m 2023-03-15 14:56:08.130987: W tensorflow/compiler/xla/stream_executor/platform/default/dso_loader.cc:64] Could not load dynamic library 'libnvinfer.so.7'; dlerror: libnvinfer.so.7: cannot open shared object file: No such file or directory\n",
      "\u001b[2m\u001b[36m(pid=396771)\u001b[0m 2023-03-15 14:56:08.131109: W tensorflow/compiler/xla/stream_executor/platform/default/dso_loader.cc:64] Could not load dynamic library 'libnvinfer_plugin.so.7'; dlerror: libnvinfer_plugin.so.7: cannot open shared object file: No such file or directory\n",
      "\u001b[2m\u001b[36m(pid=396771)\u001b[0m 2023-03-15 14:56:08.131132: W tensorflow/compiler/tf2tensorrt/utils/py_utils.cc:38] TF-TRT Warning: Cannot dlopen some TensorRT libraries. If you would like to use Nvidia GPU with TensorRT, please make sure the missing libraries mentioned above are installed properly.\n",
      "\u001b[2m\u001b[36m(pid=396807)\u001b[0m 2023-03-15 14:56:08.313088: W tensorflow/compiler/xla/stream_executor/platform/default/dso_loader.cc:64] Could not load dynamic library 'libnvinfer.so.7'; dlerror: libnvinfer.so.7: cannot open shared object file: No such file or directory\n",
      "\u001b[2m\u001b[36m(pid=396807)\u001b[0m 2023-03-15 14:56:08.313213: W tensorflow/compiler/xla/stream_executor/platform/default/dso_loader.cc:64] Could not load dynamic library 'libnvinfer_plugin.so.7'; dlerror: libnvinfer_plugin.so.7: cannot open shared object file: No such file or directory\n",
      "\u001b[2m\u001b[36m(pid=396807)\u001b[0m 2023-03-15 14:56:08.313236: W tensorflow/compiler/tf2tensorrt/utils/py_utils.cc:38] TF-TRT Warning: Cannot dlopen some TensorRT libraries. If you would like to use Nvidia GPU with TensorRT, please make sure the missing libraries mentioned above are installed properly.\n",
      "\u001b[2m\u001b[36m(run_model pid=396770)\u001b[0m 2023-03-15 14:56:10.208583: E tensorflow/compiler/xla/stream_executor/cuda/cuda_driver.cc:267] failed call to cuInit: CUDA_ERROR_NO_DEVICE: no CUDA-capable device is detected\n",
      "\u001b[2m\u001b[36m(run_model pid=396770)\u001b[0m 2023-03-15 14:56:10.208639: I tensorflow/compiler/xla/stream_executor/cuda/cuda_diagnostics.cc:156] kernel driver does not appear to be running on this host (alandoli-Lenovo-Z50-70): /proc/driver/nvidia/version does not exist\n",
      "\u001b[2m\u001b[36m(run_model pid=396770)\u001b[0m 2023-03-15 14:56:10.209046: I tensorflow/core/platform/cpu_feature_guard.cc:193] This TensorFlow binary is optimized with oneAPI Deep Neural Network Library (oneDNN) to use the following CPU instructions in performance-critical operations:  AVX2 FMA\n",
      "\u001b[2m\u001b[36m(run_model pid=396770)\u001b[0m To enable them in other operations, rebuild TensorFlow with the appropriate compiler flags.\n",
      "\u001b[2m\u001b[36m(run_model pid=396788)\u001b[0m 2023-03-15 14:56:10.149967: E tensorflow/compiler/xla/stream_executor/cuda/cuda_driver.cc:267] failed call to cuInit: CUDA_ERROR_NO_DEVICE: no CUDA-capable device is detected\n",
      "\u001b[2m\u001b[36m(run_model pid=396788)\u001b[0m 2023-03-15 14:56:10.150020: I tensorflow/compiler/xla/stream_executor/cuda/cuda_diagnostics.cc:156] kernel driver does not appear to be running on this host (alandoli-Lenovo-Z50-70): /proc/driver/nvidia/version does not exist\n",
      "\u001b[2m\u001b[36m(run_model pid=396788)\u001b[0m 2023-03-15 14:56:10.150400: I tensorflow/core/platform/cpu_feature_guard.cc:193] This TensorFlow binary is optimized with oneAPI Deep Neural Network Library (oneDNN) to use the following CPU instructions in performance-critical operations:  AVX2 FMA\n",
      "\u001b[2m\u001b[36m(run_model pid=396788)\u001b[0m To enable them in other operations, rebuild TensorFlow with the appropriate compiler flags.\n",
      "\u001b[2m\u001b[36m(run_model pid=396771)\u001b[0m 2023-03-15 14:56:10.237639: E tensorflow/compiler/xla/stream_executor/cuda/cuda_driver.cc:267] failed call to cuInit: CUDA_ERROR_NO_DEVICE: no CUDA-capable device is detected\n",
      "\u001b[2m\u001b[36m(run_model pid=396771)\u001b[0m 2023-03-15 14:56:10.237691: I tensorflow/compiler/xla/stream_executor/cuda/cuda_diagnostics.cc:156] kernel driver does not appear to be running on this host (alandoli-Lenovo-Z50-70): /proc/driver/nvidia/version does not exist\n",
      "\u001b[2m\u001b[36m(run_model pid=396771)\u001b[0m 2023-03-15 14:56:10.238125: I tensorflow/core/platform/cpu_feature_guard.cc:193] This TensorFlow binary is optimized with oneAPI Deep Neural Network Library (oneDNN) to use the following CPU instructions in performance-critical operations:  AVX2 FMA\n",
      "\u001b[2m\u001b[36m(run_model pid=396771)\u001b[0m To enable them in other operations, rebuild TensorFlow with the appropriate compiler flags.\n"
     ]
    },
    {
     "name": "stdout",
     "output_type": "stream",
     "text": [
      "\u001b[2m\u001b[36m(run_model pid=396788)\u001b[0m (4992, 128)\n",
      "\u001b[2m\u001b[36m(run_model pid=396770)\u001b[0m (4992, 128)\n",
      "\u001b[2m\u001b[36m(run_model pid=396771)\u001b[0m (4992, 128)\n"
     ]
    },
    {
     "name": "stderr",
     "output_type": "stream",
     "text": [
      "\u001b[2m\u001b[36m(run_model pid=396807)\u001b[0m 2023-03-15 14:56:10.447164: E tensorflow/compiler/xla/stream_executor/cuda/cuda_driver.cc:267] failed call to cuInit: CUDA_ERROR_NO_DEVICE: no CUDA-capable device is detected\n",
      "\u001b[2m\u001b[36m(run_model pid=396807)\u001b[0m 2023-03-15 14:56:10.447219: I tensorflow/compiler/xla/stream_executor/cuda/cuda_diagnostics.cc:156] kernel driver does not appear to be running on this host (alandoli-Lenovo-Z50-70): /proc/driver/nvidia/version does not exist\n",
      "\u001b[2m\u001b[36m(run_model pid=396807)\u001b[0m 2023-03-15 14:56:10.447674: I tensorflow/core/platform/cpu_feature_guard.cc:193] This TensorFlow binary is optimized with oneAPI Deep Neural Network Library (oneDNN) to use the following CPU instructions in performance-critical operations:  AVX2 FMA\n",
      "\u001b[2m\u001b[36m(run_model pid=396807)\u001b[0m To enable them in other operations, rebuild TensorFlow with the appropriate compiler flags.\n"
     ]
    },
    {
     "name": "stdout",
     "output_type": "stream",
     "text": [
      "\u001b[2m\u001b[36m(run_model pid=396807)\u001b[0m (4992, 128)\n"
     ]
    },
    {
     "name": "stderr",
     "output_type": "stream",
     "text": [
      "\u001b[2m\u001b[36m(pid=9472, ip=10.193.15.118)\u001b[0m 2023-03-15 14:56:17.409297: I tensorflow/core/platform/cpu_feature_guard.cc:193] This TensorFlow binary is optimized with oneAPI Deep Neural Network Library (oneDNN) to use the following CPU instructions in performance-critical operations:  AVX2 FMA\n",
      "\u001b[2m\u001b[36m(pid=9472, ip=10.193.15.118)\u001b[0m To enable them in other operations, rebuild TensorFlow with the appropriate compiler flags.\n",
      "\u001b[2m\u001b[36m(pid=9472, ip=10.193.15.118)\u001b[0m 2023-03-15 14:56:17.606723: W tensorflow/compiler/xla/stream_executor/platform/default/dso_loader.cc:64] Could not load dynamic library 'libcudart.so.11.0'; dlerror: libcudart.so.11.0: cannot open shared object file: No such file or directory\n",
      "\u001b[2m\u001b[36m(pid=9472, ip=10.193.15.118)\u001b[0m 2023-03-15 14:56:17.606759: I tensorflow/compiler/xla/stream_executor/cuda/cudart_stub.cc:29] Ignore above cudart dlerror if you do not have a GPU set up on your machine.\n",
      "\u001b[2m\u001b[36m(pid=9472, ip=10.193.15.118)\u001b[0m 2023-03-15 14:56:18.325034: W tensorflow/compiler/xla/stream_executor/platform/default/dso_loader.cc:64] Could not load dynamic library 'libnvinfer.so.7'; dlerror: libnvinfer.so.7: cannot open shared object file: No such file or directory\n",
      "\u001b[2m\u001b[36m(pid=9472, ip=10.193.15.118)\u001b[0m 2023-03-15 14:56:18.325115: W tensorflow/compiler/xla/stream_executor/platform/default/dso_loader.cc:64] Could not load dynamic library 'libnvinfer_plugin.so.7'; dlerror: libnvinfer_plugin.so.7: cannot open shared object file: No such file or directory\n",
      "\u001b[2m\u001b[36m(pid=9472, ip=10.193.15.118)\u001b[0m 2023-03-15 14:56:18.325128: W tensorflow/compiler/tf2tensorrt/utils/py_utils.cc:38] TF-TRT Warning: Cannot dlopen some TensorRT libraries. If you would like to use Nvidia GPU with TensorRT, please make sure the missing libraries mentioned above are installed properly.\n",
      "\u001b[2m\u001b[36m(run_model pid=9472, ip=10.193.15.118)\u001b[0m 2023-03-15 14:56:19.539435: W tensorflow/compiler/xla/stream_executor/platform/default/dso_loader.cc:64] Could not load dynamic library 'libcuda.so.1'; dlerror: libcuda.so.1: cannot open shared object file: No such file or directory\n",
      "\u001b[2m\u001b[36m(run_model pid=9472, ip=10.193.15.118)\u001b[0m 2023-03-15 14:56:19.539471: W tensorflow/compiler/xla/stream_executor/cuda/cuda_driver.cc:265] failed call to cuInit: UNKNOWN ERROR (303)\n",
      "\u001b[2m\u001b[36m(run_model pid=9472, ip=10.193.15.118)\u001b[0m 2023-03-15 14:56:19.539493: I tensorflow/compiler/xla/stream_executor/cuda/cuda_diagnostics.cc:156] kernel driver does not appear to be running on this host (alandoli-X555LJ): /proc/driver/nvidia/version does not exist\n",
      "\u001b[2m\u001b[36m(run_model pid=9472, ip=10.193.15.118)\u001b[0m 2023-03-15 14:56:19.539691: I tensorflow/core/platform/cpu_feature_guard.cc:193] This TensorFlow binary is optimized with oneAPI Deep Neural Network Library (oneDNN) to use the following CPU instructions in performance-critical operations:  AVX2 FMA\n",
      "\u001b[2m\u001b[36m(run_model pid=9472, ip=10.193.15.118)\u001b[0m To enable them in other operations, rebuild TensorFlow with the appropriate compiler flags.\n"
     ]
    },
    {
     "name": "stdout",
     "output_type": "stream",
     "text": [
      "\u001b[2m\u001b[36m(run_model pid=9472, ip=10.193.15.118)\u001b[0m (4992, 128)\n",
      "40/40 [==============================] - 0s 1ms/step\n",
      "  1/196 [..............................] - ETA: 3sm \n"
     ]
    },
    {
     "name": "stderr",
     "output_type": "stream",
     "text": [
      "\u001b[2m\u001b[36m(run_model pid=9472, ip=10.193.15.118)\u001b[0m /home/alandoli/.local/lib/python3.10/site-packages/sklearn/metrics/_classification.py:1344: UndefinedMetricWarning: Precision is ill-defined and being set to 0.0 in labels with no predicted samples. Use `zero_division` parameter to control this behavior.\n",
      "\u001b[2m\u001b[36m(run_model pid=9472, ip=10.193.15.118)\u001b[0m   _warn_prf(average, modifier, msg_start, len(result))\n",
      "\u001b[2m\u001b[36m(run_model pid=9472, ip=10.193.15.118)\u001b[0m /home/alandoli/.local/lib/python3.10/site-packages/sklearn/metrics/_classification.py:1344: UndefinedMetricWarning: Recall is ill-defined and being set to 0.0 in labels with no true samples. Use `zero_division` parameter to control this behavior.\n",
      "\u001b[2m\u001b[36m(run_model pid=9472, ip=10.193.15.118)\u001b[0m   _warn_prf(average, modifier, msg_start, len(result))\n"
     ]
    },
    {
     "name": "stdout",
     "output_type": "stream",
     "text": [
      "100/196 [==============>...............] - ETA: 0s\n",
      "149/196 [=====================>........] - ETA: 0s\n",
      "196/196 [==============================] - 0s 1ms/step\n",
      " 1/40 [..............................] - ETA: 6s\n",
      "16/40 [===========>..................] - ETA: 0s\n",
      "40/40 [==============================] - 0s 3ms/step\n"
     ]
    },
    {
     "name": "stderr",
     "output_type": "stream",
     "text": [
      "\u001b[2m\u001b[36m(run_model pid=396788)\u001b[0m /home/alandoli/.local/lib/python3.10/site-packages/sklearn/metrics/_classification.py:1344: UndefinedMetricWarning: Precision is ill-defined and being set to 0.0 in labels with no predicted samples. Use `zero_division` parameter to control this behavior.\n",
      "\u001b[2m\u001b[36m(run_model pid=396788)\u001b[0m   _warn_prf(average, modifier, msg_start, len(result))\n",
      "\u001b[2m\u001b[36m(run_model pid=396788)\u001b[0m /home/alandoli/.local/lib/python3.10/site-packages/sklearn/metrics/_classification.py:1344: UndefinedMetricWarning: Recall is ill-defined and being set to 0.0 in labels with no true samples. Use `zero_division` parameter to control this behavior.\n",
      "\u001b[2m\u001b[36m(run_model pid=396788)\u001b[0m   _warn_prf(average, modifier, msg_start, len(result))\n"
     ]
    },
    {
     "name": "stdout",
     "output_type": "stream",
     "text": [
      " 19/196 [=>............................] - ETA: 0s\n",
      " 50/196 [======>.......................] - ETA: 0s\n",
      " 1/40 [..............................] - ETA: 8s\n",
      " 63/196 [========>.....................] - ETA: 0s\n",
      "102/196 [==============>...............] - ETA: 0s\n",
      "40/40 [==============================] - 0s 2ms/step\n",
      "143/196 [====================>.........] - ETA: 0s\n"
     ]
    },
    {
     "name": "stderr",
     "output_type": "stream",
     "text": [
      "\u001b[2m\u001b[36m(run_model pid=396771)\u001b[0m /home/alandoli/.local/lib/python3.10/site-packages/sklearn/metrics/_classification.py:1344: UndefinedMetricWarning: Precision is ill-defined and being set to 0.0 in labels with no predicted samples. Use `zero_division` parameter to control this behavior.\n",
      "\u001b[2m\u001b[36m(run_model pid=396771)\u001b[0m   _warn_prf(average, modifier, msg_start, len(result))\n"
     ]
    },
    {
     "name": "stdout",
     "output_type": "stream",
     "text": [
      "\u001b[2m\u001b[36m(run_model pid=396788)\u001b[0m \b\b\b\b\b\b\b\b\b\b\b\b\b\b\b\b\b\b\b\b\b\b\b\b\b\b\b\b\b\b\b\b\b\b\b\b\b\b\b\b\b\b\b\b\b\b\b\b\b\b\r",
      "163/196 [=======================>......] - ETA: 0s\b\b\b\b\b\b\b\b\b\b\b\b\b\b\b\b\b\b\b\b\b\b\b\b\b\b\b\b\b\b\b\b\b\b\b\b\b\b\b\b\b\b\b\b\b\b\b\b\b\b\r",
      "185/196 [===========================>..] - ETA: 0s\n",
      "\u001b[2m\u001b[36m(run_model pid=396771)\u001b[0m \r",
      "  1/196 [..............................] - ETA: 7s\n",
      "\u001b[2m\u001b[36m(run_model pid=396807)\u001b[0m \r",
      " 1/40 [..............................] - ETA: 7s\b\b\b\b\b\b\b\b\b\b\b\b\b\b\b\b\b\b\b\b\b\b\b\b\b\b\b\b\b\b\b\b\b\b\b\b\b\b\b\b\b\b\b\b\b\b\b\b\r",
      "20/40 [==============>...............] - ETA: 0s\n",
      "\u001b[2m\u001b[36m(run_model pid=396788)\u001b[0m \b\b\b\b\b\b\b\b\b\b\b\b\b\b\b\b\b\b\b\b\b\b\b\b\b\b\b\b\b\b\b\b\b\b\b\b\b\b\b\b\b\b\b\b\b\b\b\b\b\b\r",
      "196/196 [==============================] - 1s 3ms/step\n",
      "\u001b[2m\u001b[36m(run_model pid=396771)\u001b[0m \b\b\b\b\b\b\b\b\b\b\b\b\b\b\b\b\b\b\b\b\b\b\b\b\b\b\b\b\b\b\b\b\b\b\b\b\b\b\b\b\b\b\b\b\b\b\b\b\b\b\r",
      " 19/196 [=>............................] - ETA: 0s\b\b\b\b\b\b\b\b\b\b\b\b\b\b\b\b\b\b\b\b\b\b\b\b\b\b\b\b\b\b\b\b\b\b\b\b\b\b\b\b\b\b\b\b\b\b\b\b\b\b\r",
      " 41/196 [=====>........................] - ETA: 0s\n",
      "\u001b[2m\u001b[36m(run_model pid=396807)\u001b[0m \b\b\b\b\b\b\b\b\b\b\b\b\b\b\b\b\b\b\b\b\b\b\b\b\b\b\b\b\b\b\b\b\b\b\b\b\b\b\b\b\b\b\b\b\b\b\b\b\r",
      "40/40 [==============================] - ETA: 0s\b\b\b\b\b\b\b\b\b\b\b\b\b\b\b\b\b\b\b\b\b\b\b\b\b\b\b\b\b\b\b\b\b\b\b\b\b\b\b\b\b\b\b\b\b\b\b\b\r",
      "40/40 [==============================] - 0s 3ms/step\n"
     ]
    },
    {
     "name": "stderr",
     "output_type": "stream",
     "text": [
      "\u001b[2m\u001b[36m(run_model pid=396807)\u001b[0m /home/alandoli/.local/lib/python3.10/site-packages/sklearn/metrics/_classification.py:1344: UndefinedMetricWarning: Precision is ill-defined and being set to 0.0 in labels with no predicted samples. Use `zero_division` parameter to control this behavior.\n",
      "\u001b[2m\u001b[36m(run_model pid=396807)\u001b[0m   _warn_prf(average, modifier, msg_start, len(result))\n"
     ]
    },
    {
     "name": "stdout",
     "output_type": "stream",
     "text": [
      " 85/196 [============>.................] - ETA: 0s\n",
      "131/196 [===================>..........] - ETA: 0s\n",
      " 27/196 [===>..........................] - ETA: 0s\n",
      "157/196 [=======================>......] - ETA: 0s\n",
      "196/196 [==============================] - 0s 2ms/step\n",
      " 78/196 [==========>...................] - ETA: 0s\n",
      "131/196 [===================>..........] - ETA: 0s\n",
      "154/196 [======================>.......] - ETA: 0s\n",
      "196/196 [==============================] - 0s 2ms/step\n",
      "40/40 [==============================] - 0s 1ms/step\n"
     ]
    },
    {
     "name": "stderr",
     "output_type": "stream",
     "text": [
      "\u001b[2m\u001b[36m(run_model pid=396770)\u001b[0m /home/alandoli/.local/lib/python3.10/site-packages/sklearn/metrics/_classification.py:1344: UndefinedMetricWarning: Precision is ill-defined and being set to 0.0 in labels with no predicted samples. Use `zero_division` parameter to control this behavior.\n",
      "\u001b[2m\u001b[36m(run_model pid=396770)\u001b[0m   _warn_prf(average, modifier, msg_start, len(result))\n",
      "\u001b[2m\u001b[36m(run_model pid=396770)\u001b[0m /home/alandoli/.local/lib/python3.10/site-packages/sklearn/metrics/_classification.py:1344: UndefinedMetricWarning: Recall is ill-defined and being set to 0.0 in labels with no true samples. Use `zero_division` parameter to control this behavior.\n",
      "\u001b[2m\u001b[36m(run_model pid=396770)\u001b[0m   _warn_prf(average, modifier, msg_start, len(result))\n"
     ]
    },
    {
     "name": "stdout",
     "output_type": "stream",
     "text": [
      "  1/196 [..............................] - ETA: 4s\n",
      "112/196 [================>.............] - ETA: 0s\n",
      "196/196 [==============================] - 0s 889us/step\n",
      "(6241, 133) (6241, 5)\n"
     ]
    }
   ],
   "source": [
    "@ray.remote(num_cpus=num_P)\n",
    "def run_model(i, X,x_train , y_train, x_test , y_test):\n",
    "    \n",
    "    t_temp=time.time()\n",
    "    #individual classifier\n",
    "    input_dim=x_train.shape[1]\n",
    "\n",
    "    model1=create_model()\n",
    "    #hist = model1.fit(x_train , y_train , epochs=20)\n",
    "    #hist = model1.fit(x_train , y_train , epochs=20, batch_size=5, verbose=0)\n",
    "    print(x_train.shape)\n",
    "    hist = model1.fit(x_train , y_train , epochs=num_epochs, batch_size=batch_size, verbose=0)\n",
    "    y_predict=model1.predict(x_test)\n",
    "    y_predict=np.argmax(y_predict,axis=1)\n",
    "\n",
    "    #_, accuracy = model1.evaluate(x_test, y_test)\n",
    "    #Accuracy\n",
    "    acc=accuracy_score(y_test, y_predict)\n",
    "    prc=precision_score(y_test, y_predict, average='weighted')\n",
    "    rec=recall_score(y_test, y_predict, average='weighted')\n",
    "    f1=f1_score(y_test, y_predict, average='weighted')\n",
    "    \n",
    " \n",
    "    results = 'DL:%d' %(i) + ', Acc: %.2f' % (acc*100) + ', Pre: %.2f' % (prc*100)\n",
    "    results += ', Rec: %.2f' % (rec*100) + ', F1: %.2f' % (f1*100) + ', T:%.2f ' % (time.time()-t_temp) + ', PC: ' + PC\n",
    "    results += ', Num Processors: ' + str(num_P) + ', Eb:%d ' %(num_epochs) + ', Bs:%d ' %(batch_size) + ', Date:' + Time_Now + '\\n'\n",
    "    \n",
    "    predictions=model1.predict(X)\n",
    "    max_indices = np.argmax(predictions,axis=1)\n",
    "\n",
    "    return_values=[]\n",
    "    return_values.append(np.array(max_indices))\n",
    "    return_values.append(results)\n",
    "\n",
    "    return return_values\n",
    "\n",
    "t1=time.time()\n",
    "\n",
    "Return_values=[]\n",
    "\n",
    "Return_values=[run_model.remote(i, X,x_train , y_train, x_test , y_test) for i in range(5)]\n",
    "\n",
    "#collect the output from classifiers that used original features\n",
    "\n",
    "outputs_original=ray.get(Return_values)\n",
    "\n",
    "all_time_before=time.time()-t1\n",
    "\n",
    "#0 indicates to the the outputs_original\n",
    "#1 indicates to results_original\n",
    "predictions=outputs_original[0][0]\n",
    "for i in range(1,5):\n",
    "    predictions=np.vstack((predictions,outputs_original[i][0]))\n",
    "\n",
    "predictions= np.transpose(predictions)\n",
    "\n",
    "# concat predictions with olriginal features\n",
    "new_X=np.concatenate((X, predictions), axis=1)\n",
    "#new_X=predictions #np.concatenate((X, predictions), axis=1)\n",
    "#====z_score normalization\n",
    "scaler = StandardScaler()\n",
    "scaler.fit(new_X)\n",
    "new_X = scaler.fit_transform(new_X)\n",
    "print(new_X.shape, predictions.shape)\n",
    "\n",
    "new_x_train,new_x_test,y_train,y_test = train_test_split(new_X,y,test_size = 0.10)\n",
    "\n",
    "input_dim=new_x_train.shape[1]\n",
    "\n",
    "\n",
    "#Save the performance results of original classifiers\n",
    "path2= path +\"Res_Singl_Parallel_DL_Original.txt\" # the name of the file\n",
    "results_before='Dataset:' + dataset + '=============================================\\n'\n",
    "\n",
    "for i in range(5):\n",
    "    results_before+=outputs_original[i][1]\n",
    "\n",
    "results_before+= 'Done...in time:' + str(round(all_time_before)) + '\\n'\n",
    "    \n",
    "write_results(results_before, path2)\n"
   ]
  },
  {
   "cell_type": "code",
   "execution_count": 7,
   "id": "c65f8e90",
   "metadata": {},
   "outputs": [
    {
     "name": "stderr",
     "output_type": "stream",
     "text": [
      "/tmp/ipykernel_396687/3367525961.py:3: DeprecationWarning: KerasClassifier is deprecated, use Sci-Keras (https://github.com/adriangb/scikeras) instead. See https://www.adriangb.com/scikeras/stable/migration.html for help migrating.\n",
      "  NN_clf1=KerasClassifier(build_fn=create_model, epochs=num_epochs, batch_size=batch_size, verbose=0)\n",
      "/tmp/ipykernel_396687/3367525961.py:5: DeprecationWarning: KerasClassifier is deprecated, use Sci-Keras (https://github.com/adriangb/scikeras) instead. See https://www.adriangb.com/scikeras/stable/migration.html for help migrating.\n",
      "  NN_clf2=KerasClassifier(build_fn=create_model, epochs=num_epochs, batch_size=batch_size, verbose=0)\n",
      "/tmp/ipykernel_396687/3367525961.py:7: DeprecationWarning: KerasClassifier is deprecated, use Sci-Keras (https://github.com/adriangb/scikeras) instead. See https://www.adriangb.com/scikeras/stable/migration.html for help migrating.\n",
      "  NN_clf3=KerasClassifier(build_fn=create_model, epochs=num_epochs, batch_size=batch_size, verbose=0)\n",
      "/tmp/ipykernel_396687/3367525961.py:9: DeprecationWarning: KerasClassifier is deprecated, use Sci-Keras (https://github.com/adriangb/scikeras) instead. See https://www.adriangb.com/scikeras/stable/migration.html for help migrating.\n",
      "  NN_clf4=KerasClassifier(build_fn=create_model, epochs=num_epochs, batch_size=batch_size, verbose=0)\n",
      "/tmp/ipykernel_396687/3367525961.py:11: DeprecationWarning: KerasClassifier is deprecated, use Sci-Keras (https://github.com/adriangb/scikeras) instead. See https://www.adriangb.com/scikeras/stable/migration.html for help migrating.\n",
      "  NN_clf5=KerasClassifier(build_fn=create_model, epochs=num_epochs, batch_size=batch_size, verbose=0)\n"
     ]
    }
   ],
   "source": [
    "input_dim=new_x_train.shape[1]\n",
    "\n",
    "NN_clf1=KerasClassifier(build_fn=create_model, epochs=num_epochs, batch_size=batch_size, verbose=0)\n",
    "NN_clf1._estimator_type = \"classifier\"\n",
    "NN_clf2=KerasClassifier(build_fn=create_model, epochs=num_epochs, batch_size=batch_size, verbose=0)\n",
    "NN_clf2._estimator_type = \"classifier\"\n",
    "NN_clf3=KerasClassifier(build_fn=create_model, epochs=num_epochs, batch_size=batch_size, verbose=0)\n",
    "NN_clf3._estimator_type = \"classifier\"\n",
    "NN_clf4=KerasClassifier(build_fn=create_model, epochs=num_epochs, batch_size=batch_size, verbose=0)\n",
    "NN_clf4._estimator_type = \"classifier\"\n",
    "NN_clf5=KerasClassifier(build_fn=create_model, epochs=num_epochs, batch_size=batch_size, verbose=0)\n",
    "NN_clf5._estimator_type = \"classifier\"\n"
   ]
  },
  {
   "cell_type": "code",
   "execution_count": 8,
   "id": "c7a5b4f0",
   "metadata": {},
   "outputs": [
    {
     "data": {
      "text/plain": [
       "[('NN1', <keras.wrappers.scikit_learn.KerasClassifier at 0x7fa893f853c0>),\n",
       " ('NN2', <keras.wrappers.scikit_learn.KerasClassifier at 0x7fa893f84b20>),\n",
       " ('NN3', <keras.wrappers.scikit_learn.KerasClassifier at 0x7fa893f84ac0>),\n",
       " ('NN4', <keras.wrappers.scikit_learn.KerasClassifier at 0x7fa9f7ec1f00>),\n",
       " ('NN5', <keras.wrappers.scikit_learn.KerasClassifier at 0x7fa893f84f70>),\n",
       " ('dtc', DecisionTreeClassifier()),\n",
       " ('rfc', RandomForestClassifier()),\n",
       " ('knn', KNeighborsClassifier()),\n",
       " ('xgb',\n",
       "  XGBClassifier(base_score=None, booster=None, callbacks=None,\n",
       "                colsample_bylevel=None, colsample_bynode=None,\n",
       "                colsample_bytree=None, early_stopping_rounds=None,\n",
       "                enable_categorical=False, eval_metric=None, feature_types=None,\n",
       "                gamma=None, gpu_id=None, grow_policy=None, importance_type=None,\n",
       "                interaction_constraints=None, learning_rate=None, max_bin=None,\n",
       "                max_cat_threshold=None, max_cat_to_onehot=None,\n",
       "                max_delta_step=None, max_depth=None, max_leaves=None,\n",
       "                min_child_weight=None, missing=nan, monotone_constraints=None,\n",
       "                n_estimators=100, n_jobs=None, num_parallel_tree=None,\n",
       "                predictor=None, random_state=None, ...))]"
      ]
     },
     "execution_count": 8,
     "metadata": {},
     "output_type": "execute_result"
    }
   ],
   "source": [
    "dtc =  DecisionTreeClassifier()\n",
    "rfc = RandomForestClassifier()\n",
    "knn =  KNeighborsClassifier()\n",
    "xgb = xgboost.XGBClassifier()\n",
    "svm = SVC(probability=True)\n",
    "\n",
    "#intermediate = [('NN1', NN_clf1), ('NN2', NN_clf2), ('NN3', NN_clf3), ('NN4', NN_clf4), ('NN5', NN_clf5),('dtc',dtc),('rfc',rfc),('knn',knn) ,('xgb',xgb),('svm',svm)]\n",
    "intermediate = [('NN1', NN_clf1), ('NN2', NN_clf2), ('NN3', NN_clf3),\n",
    "                ('NN4', NN_clf4), ('NN5', NN_clf5),('dtc',dtc),('rfc',rfc),\n",
    "                ('knn',knn) ,('xgb',xgb)]\n",
    "intermediate\n"
   ]
  },
  {
   "cell_type": "code",
   "execution_count": 9,
   "id": "bc001faa",
   "metadata": {},
   "outputs": [
    {
     "name": "stdout",
     "output_type": "stream",
     "text": [
      "40/40 [==============================] - 0s 1ms/step18)\u001b[0m \n",
      " 1/40 [..............................] - ETA: 5s\n",
      "40/40 [==============================] - 0s 3ms/step\n",
      " 1/40 [..............................] - ETA: 4s\n",
      " 1/40 [..............................] - ETA: 4s\n",
      "40/40 [==============================] - 0s 2ms/step\n",
      " 1/40 [..............................] - ETA: 4s\n",
      "40/40 [==============================] - 0s 2ms/step\n",
      "40/40 [==============================] - 0s 2ms/step\n",
      "20/39 [==============>...............] - ETA: 0s15.118)\u001b[0m \n",
      "39/39 [==============================] - 0s 2ms/step18)\u001b[0\n"
     ]
    },
    {
     "name": "stderr",
     "output_type": "stream",
     "text": [
      "\u001b[2m\u001b[36m(parallel_ensemble pid=9555, ip=10.193.15.118)\u001b[0m /home/alandoli/.local/lib/python3.10/site-packages/sklearn/metrics/_classification.py:1344: UndefinedMetricWarning: Recall is ill-defined and being set to 0.0 in labels with no true samples. Use `zero_division` parameter to control this behavior.\n",
      "\u001b[2m\u001b[36m(parallel_ensemble pid=9555, ip=10.193.15.118)\u001b[0m   _warn_prf(average, modifier, msg_start, len(result))\n"
     ]
    },
    {
     "name": "stdout",
     "output_type": "stream",
     "text": [
      " 1/39 [..............................] - ETA: 2s15.118)\u001b[0m \n",
      "39/39 [==============================] - 0s 1ms/step18)\u001b[0\n",
      " 1/39 [..............................] - ETA: 4s\n",
      "39/39 [==============================] - 0s 3ms/step\n",
      " 1/39 [..............................] - ETA: 5s\n",
      "39/39 [==============================] - 0s 3ms/step\n",
      " 1/39 [..............................] - ETA: 7s\n",
      "39/39 [==============================] - 0s 3ms/step\n",
      " 1/39 [..............................] - ETA: 3s\n",
      "39/39 [==============================] - 0s 2ms/step\n",
      "39/39 [==============================] - 0s 1ms/step18)\u001b[0m \n"
     ]
    },
    {
     "name": "stderr",
     "output_type": "stream",
     "text": [
      "\u001b[2m\u001b[36m(parallel_ensemble pid=9648, ip=10.193.15.118)\u001b[0m /home/alandoli/.local/lib/python3.10/site-packages/sklearn/metrics/_classification.py:1344: UndefinedMetricWarning: Recall is ill-defined and being set to 0.0 in labels with no true samples. Use `zero_division` parameter to control this behavior.\n",
      "\u001b[2m\u001b[36m(parallel_ensemble pid=9648, ip=10.193.15.118)\u001b[0m   _warn_prf(average, modifier, msg_start, len(result))\n"
     ]
    },
    {
     "name": "stdout",
     "output_type": "stream",
     "text": [
      " 1/39 [..............................] - ETA: 1s15.118)\u001b[0m \n",
      "39/39 [==============================] - 0s 1ms/step18)\u001b[0\n",
      " 1/39 [..............................] - ETA: 4s\n",
      "39/39 [==============================] - 0s 2ms/step\n",
      "21/39 [===============>..............] - ETA: 0s\n",
      "39/39 [==============================] - 0s 3ms/step\n",
      "22/39 [===============>..............] - ETA: 0s\n",
      "39/39 [==============================] - 0s 2ms/step\n",
      "14/39 [=========>....................] - ETA: 0s\n",
      "39/39 [==============================] - 0s 4ms/step\n",
      " 1/39 [..............................] - ETA: 3s\n",
      "39/39 [==============================] - 0s 3ms/step\n",
      " 1/39 [..............................] - ETA: 4s\n",
      "21/39 [===============>..............] - ETA: 0s\n",
      "39/39 [==============================] - 0s 2ms/step\n",
      " 1/39 [..............................] - ETA: 3s\n",
      "39/39 [==============================] - 0s 2ms/step\n",
      " 1/39 [..............................] - ETA: 4s\n",
      "39/39 [==============================] - 0s 2ms/step\n",
      " 1/39 [..............................] - ETA: 4s\n",
      "39/39 [==============================] - 0s 3ms/step\n",
      "39/39 [==============================] - 0s 3ms/step\n",
      "34/39 [=========================>....] - ETA: 0s\n",
      "39/39 [==============================] - 0s 2ms/step\n",
      "39/39 [==============================] - 0s 931us/step\n"
     ]
    }
   ],
   "source": [
    "# run after ad preictions of first level\n",
    "t1=time.time()\n",
    "@ray.remote(num_cpus=num_P)\n",
    "def parallel_ensemble(algo,clf_name, p_X,p_y):\n",
    "    t_temp=time.time()\n",
    "    y_predict = cross_val_predict(algo,p_X,p_y, cv=5) \n",
    "    #score = cross_val_score( algo,new_X,y,cv = 10,scoring = 'accuracy')\n",
    "    #print(\"The accuracy score of {} is:\".format(algo),score.mean(), \"time: \", time.time()-t_temp)\n",
    "    acc=accuracy_score(y_predict,y)\n",
    "    prc=precision_score(y_predict,y, average='weighted')\n",
    "    rec=recall_score(y_predict,y, average='weighted')\n",
    "    f1=f1_score(y_predict,y, average='weighted')\n",
    "\n",
    "\n",
    "    results = 'Model: ' + clf_name + ', Acc: %.2f' % (acc*100) + ', Pre: %.2f' % (prc*100)\n",
    "    results += ', Rec: %.2f' % (rec*100) + ', F1: %.2f' % (f1*100) + ', T:%.2f ' % (time.time()-t_temp) + ', PC: ' + PC\n",
    "    results += ', Num Processors: ' + str(num_P) + ', Eb:%d ' %(num_epochs) + ', Bs:%d ' %(batch_size) + ', Date:' + Time_Now + '\\n'\n",
    "    \n",
    "    return results\n",
    "\n",
    "clf = [NN_clf1,NN_clf2,NN_clf3,NN_clf4,NN_clf5, dtc, rfc, knn, xgb, svm]\n",
    "clf_name = ['NN_clf1','NN_clf2','NN_clf3','NN_clf4', 'NN_clf5', 'dtc', 'rfc', 'knn', 'xgb', 'svm']\n",
    "\n",
    "outputs_after=[parallel_ensemble.remote(clf[i], clf_name[i], new_X,y) for i in range (len(clf_name))]\n",
    "\n",
    "    \n",
    "#collect the results of classification after get new features from the bae classifier.\n",
    "path2=path + \"Res_Singl_Parallel_ML_DL_after.txt\" # the name of the file\n",
    "results_after='Dataset:' + dataset + '=============================================\\n'\n",
    "\n",
    "for i in range(len(clf_name)):\n",
    "    results_after+=ray.get(outputs_after[i])\n",
    "    \n",
    "all_time_after=time.time()-t1\n",
    "\n",
    "results_after+='Done...in time:' + str(round(all_time_after)) + '\\n'\n",
    "write_results(results_after, path2)\n"
   ]
  },
  {
   "cell_type": "code",
   "execution_count": 10,
   "id": "dbd84a37",
   "metadata": {},
   "outputs": [
    {
     "name": "stderr",
     "output_type": "stream",
     "text": [
      "2023-03-15 15:05:05.122193: E tensorflow/compiler/xla/stream_executor/cuda/cuda_driver.cc:267] failed call to cuInit: CUDA_ERROR_NO_DEVICE: no CUDA-capable device is detected\n",
      "2023-03-15 15:05:05.122247: I tensorflow/compiler/xla/stream_executor/cuda/cuda_diagnostics.cc:156] kernel driver does not appear to be running on this host (alandoli-Lenovo-Z50-70): /proc/driver/nvidia/version does not exist\n",
      "2023-03-15 15:05:05.122685: I tensorflow/core/platform/cpu_feature_guard.cc:193] This TensorFlow binary is optimized with oneAPI Deep Neural Network Library (oneDNN) to use the following CPU instructions in performance-critical operations:  AVX2 FMA\n",
      "To enable them in other operations, rebuild TensorFlow with the appropriate compiler flags.\n"
     ]
    },
    {
     "name": "stdout",
     "output_type": "stream",
     "text": [
      "36/36 [==============================] - 0s 1ms/step\n",
      "36/36 [==============================] - 0s 1ms/step\n",
      "36/36 [==============================] - 0s 1ms/step\n",
      "36/36 [==============================] - 0s 1ms/step\n",
      "36/36 [==============================] - 0s 1ms/step\n",
      "36/36 [==============================] - 0s 1ms/step\n",
      "36/36 [==============================] - 0s 1ms/step\n",
      "36/36 [==============================] - 0s 1ms/step\n",
      "36/36 [==============================] - 0s 1ms/step\n",
      "36/36 [==============================] - 0s 1ms/step\n",
      "36/36 [==============================] - 0s 1ms/step\n",
      "36/36 [==============================] - 0s 1ms/step\n",
      "36/36 [==============================] - 0s 1ms/step\n",
      "36/36 [==============================] - 0s 1ms/step\n",
      "36/36 [==============================] - 0s 1ms/step\n",
      "36/36 [==============================] - 0s 1ms/step\n",
      "36/36 [==============================] - 0s 1ms/step\n",
      "36/36 [==============================] - 0s 1ms/step\n",
      "36/36 [==============================] - 0s 1ms/step\n",
      "36/36 [==============================] - 0s 1ms/step\n",
      "36/36 [==============================] - 0s 1ms/step\n",
      "36/36 [==============================] - 0s 1ms/step\n",
      "36/36 [==============================] - 0s 1ms/step\n",
      "36/36 [==============================] - 0s 1ms/step\n",
      "36/36 [==============================] - 0s 1ms/step\n",
      "20/20 [==============================] - 0s 1ms/step\n",
      "20/20 [==============================] - 0s 1ms/step\n",
      "20/20 [==============================] - 0s 1ms/step\n",
      "20/20 [==============================] - 0s 1ms/step\n",
      "20/20 [==============================] - 0s 1ms/step\n",
      "Done...in time:  748.5177056789398\n"
     ]
    },
    {
     "name": "stderr",
     "output_type": "stream",
     "text": [
      "/home/alandoli/.local/lib/python3.10/site-packages/sklearn/metrics/_classification.py:1344: UndefinedMetricWarning: Recall is ill-defined and being set to 0.0 in labels with no true samples. Use `zero_division` parameter to control this behavior.\n",
      "  _warn_prf(average, modifier, msg_start, len(result))\n"
     ]
    }
   ],
   "source": [
    "#Ensemble stacked results\n",
    "t2=time.time()\n",
    "#kfold = KFold(n_splits=10, shuffle=True)\n",
    "clf = StackingClassifier(estimators=intermediate, final_estimator=LogisticRegression()) #MLPClassifier()\n",
    "\n",
    "clf.fit(new_x_train , y_train)\n",
    "#score = cross_val_score(stack_model,new_X,y,cv = 10,scoring = 'accuracy')\n",
    "#score\n",
    "y_predict=clf.predict(new_x_test)\n",
    "acc=accuracy_score(y_predict,y_test)\n",
    "prc=precision_score(y_predict,y_test, average='weighted')\n",
    "rec=recall_score(y_predict,y_test, average='weighted')\n",
    "f1=f1_score(y_predict,y_test, average='weighted')\n",
    "\n",
    "Ense_results ='Acc: %.2f' % (acc*100) + ', Pre: %.2f' % (prc*100)\n",
    "Ense_results += ', Rec: %.2f' % (rec*100) + ', F1: %.2f' % (f1*100) + ', PC: ' + PC\n",
    "Ense_results += ', Num Processors: ' + str(num_P) +  ', Eb:%d ' %(num_epochs) + ', Bs:%d ' %(batch_size) + 'Dataset: ' + dataset  + ', Date:' + Time_Now + '\\n'\n",
    "  \n",
    "Ense_results+='Done...in time:' + str(round(time.time()-t2)) + '\\n'\n",
    "\n",
    "path2= path + \"Res_Parallel_Ensemble_ML_DL.txt\" # the name of the file\n",
    "write_results(Ense_results, path2)\n",
    "\n",
    "\n",
    "\n",
    "print(\"Done...in time: \", time.time()-t2)"
   ]
  },
  {
   "cell_type": "code",
   "execution_count": 11,
   "id": "551b215f",
   "metadata": {},
   "outputs": [
    {
     "name": "stdout",
     "output_type": "stream",
     "text": [
      "20/20 [==============================] - 0s 1ms/step\n",
      "20/20 [==============================] - 0s 1ms/step\n",
      "20/20 [==============================] - 0s 992us/step\n",
      "20/20 [==============================] - 0s 1ms/step\n",
      "20/20 [==============================] - 0s 1ms/step\n",
      "Stacking model score 0.888\n"
     ]
    }
   ],
   "source": [
    "print(\"Stacking model score\", clf.score(new_x_test , y_test))\n"
   ]
  },
  {
   "cell_type": "code",
   "execution_count": 12,
   "id": "0a037c4b-a57a-4211-b549-26c4ed59acf8",
   "metadata": {},
   "outputs": [],
   "source": [
    "ray.shutdown()"
   ]
  },
  {
   "cell_type": "code",
   "execution_count": null,
   "id": "64bf0c0a-2827-4c21-a181-d63b2b1fa369",
   "metadata": {},
   "outputs": [],
   "source": []
  },
  {
   "cell_type": "code",
   "execution_count": null,
   "id": "62a9f76c-5c30-4901-8a9d-6ac2caad9046",
   "metadata": {},
   "outputs": [],
   "source": []
  },
  {
   "cell_type": "code",
   "execution_count": null,
   "id": "b0268e6e-13f9-4b66-9d19-1ba0f827e77c",
   "metadata": {},
   "outputs": [],
   "source": []
  }
 ],
 "metadata": {
  "kernelspec": {
   "display_name": "Python 3 (ipykernel)",
   "language": "python",
   "name": "python3"
  },
  "language_info": {
   "codemirror_mode": {
    "name": "ipython",
    "version": 3
   },
   "file_extension": ".py",
   "mimetype": "text/x-python",
   "name": "python",
   "nbconvert_exporter": "python",
   "pygments_lexer": "ipython3",
   "version": "3.10.6"
  }
 },
 "nbformat": 4,
 "nbformat_minor": 5
}
